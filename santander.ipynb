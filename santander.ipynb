{
  "nbformat": 4,
  "nbformat_minor": 0,
  "metadata": {
    "colab": {
      "name": "santander.ipynb",
      "version": "0.3.2",
      "provenance": []
    }
  },
  "cells": [
    {
      "metadata": {
        "id": "dqg2fcsisfu0",
        "colab_type": "text"
      },
      "cell_type": "markdown",
      "source": [
        " Santander Data Science Frameworks"
      ]
    },
    {
      "metadata": {
        "id": "ixlrXOx_sfu6",
        "colab_type": "code",
        "colab": {}
      },
      "cell_type": "code",
      "source": [
        "from sklearn.model_selection import train_test_split\n",
        "from sklearn.model_selection import StratifiedKFold\n",
        "from sklearn.ensemble import RandomForestClassifier\n",
        "from sklearn.tree import DecisionTreeClassifier\n",
        "from IPython.display import display\n",
        "import matplotlib.patches as patch\n",
        "import matplotlib.pyplot as plt\n",
        "from sklearn.svm import NuSVR\n",
        "from scipy.stats import norm\n",
        "from sklearn import svm\n",
        "import lightgbm as lgb\n",
        "import xgboost as xgb\n",
        "import seaborn as sns\n",
        "import pandas as pd\n",
        "import numpy as np\n",
        "import warnings\n",
        "import time\n",
        "import glob\n",
        "import sys\n",
        "import os\n",
        "import gc\n"
      ],
      "execution_count": 0,
      "outputs": []
    },
    {
      "metadata": {
        "id": "V02s18KfsfvI",
        "colab_type": "text"
      },
      "cell_type": "markdown",
      "source": [
        "**Reading the CSV File**"
      ]
    },
    {
      "metadata": {
        "id": "0wiOJVvhsfvK",
        "colab_type": "code",
        "colab": {}
      },
      "cell_type": "code",
      "source": [
        "train=pd.read_csv('/home/rahul/Desktop/Link to rahul_environment/Projects/Machine_Learning Projects/Santander/train.csv')\n",
        "\n"
      ],
      "execution_count": 0,
      "outputs": []
    },
    {
      "metadata": {
        "id": "Kcx2MpV9sfvV",
        "colab_type": "text"
      },
      "cell_type": "markdown",
      "source": [
        "**Head and Shape of the CSV File**"
      ]
    },
    {
      "metadata": {
        "id": "D8A9SaMdsfvZ",
        "colab_type": "code",
        "colab": {
          "base_uri": "https://localhost:8080/",
          "height": 185
        },
        "outputId": "a0167b38-bea9-47ae-8bf7-119deba352ed"
      },
      "cell_type": "code",
      "source": [
        "train.head(10)\n",
        "train.shape\n"
      ],
      "execution_count": 1,
      "outputs": [
        {
          "output_type": "error",
          "ename": "NameError",
          "evalue": "ignored",
          "traceback": [
            "\u001b[0;31m\u001b[0m",
            "\u001b[0;31mNameError\u001b[0mTraceback (most recent call last)",
            "\u001b[0;32m<ipython-input-1-7b93ef7e62a4>\u001b[0m in \u001b[0;36m<module>\u001b[0;34m()\u001b[0m\n\u001b[0;32m----> 1\u001b[0;31m \u001b[0mtrain\u001b[0m\u001b[0;34m.\u001b[0m\u001b[0mhead\u001b[0m\u001b[0;34m(\u001b[0m\u001b[0;36m10\u001b[0m\u001b[0;34m)\u001b[0m\u001b[0;34m\u001b[0m\u001b[0m\n\u001b[0m\u001b[1;32m      2\u001b[0m \u001b[0mtrain\u001b[0m\u001b[0;34m.\u001b[0m\u001b[0mshape\u001b[0m\u001b[0;34m\u001b[0m\u001b[0m\n",
            "\u001b[0;31mNameError\u001b[0m: name 'train' is not defined"
          ]
        }
      ]
    },
    {
      "metadata": {
        "id": "JKrnD20Ysfvl",
        "colab_type": "text"
      },
      "cell_type": "markdown",
      "source": [
        "**Columns of the File**"
      ]
    },
    {
      "metadata": {
        "id": "uHGIrz8vsfvo",
        "colab_type": "code",
        "colab": {},
        "outputId": "c462176f-6501-4421-cc73-c2e805c5b46d"
      },
      "cell_type": "code",
      "source": [
        "train.columns\n"
      ],
      "execution_count": 0,
      "outputs": [
        {
          "output_type": "execute_result",
          "data": {
            "text/plain": [
              "Index(['ID_code', 'target', 'var_0', 'var_1', 'var_2', 'var_3', 'var_4',\n",
              "       'var_5', 'var_6', 'var_7',\n",
              "       ...\n",
              "       'var_190', 'var_191', 'var_192', 'var_193', 'var_194', 'var_195',\n",
              "       'var_196', 'var_197', 'var_198', 'var_199'],\n",
              "      dtype='object', length=202)"
            ]
          },
          "metadata": {
            "tags": []
          },
          "execution_count": 7
        }
      ]
    },
    {
      "metadata": {
        "id": "bLd2zgSRsfvx",
        "colab_type": "text"
      },
      "cell_type": "markdown",
      "source": [
        "**Length of the Columns**"
      ]
    },
    {
      "metadata": {
        "id": "wSoVY-sZsfvz",
        "colab_type": "code",
        "colab": {},
        "outputId": "0c813fe2-8714-4ff0-dd63-e6b1250b5475"
      },
      "cell_type": "code",
      "source": [
        "print(len(train.columns))\n"
      ],
      "execution_count": 0,
      "outputs": [
        {
          "output_type": "stream",
          "text": [
            "202\n"
          ],
          "name": "stdout"
        }
      ]
    },
    {
      "metadata": {
        "id": "FUydqrowsfwB",
        "colab_type": "text"
      },
      "cell_type": "markdown",
      "source": [
        "**Train.info()**"
      ]
    },
    {
      "metadata": {
        "id": "M8p6MMDdsfwE",
        "colab_type": "code",
        "colab": {},
        "outputId": "86069e4f-49a8-4058-d25f-d461a95d565d"
      },
      "cell_type": "code",
      "source": [
        "print(train.info())\n"
      ],
      "execution_count": 0,
      "outputs": [
        {
          "output_type": "stream",
          "text": [
            "<class 'pandas.core.frame.DataFrame'>\n",
            "RangeIndex: 200000 entries, 0 to 199999\n",
            "Columns: 202 entries, ID_code to var_199\n",
            "dtypes: float64(200), int64(1), object(1)\n",
            "memory usage: 308.2+ MB\n",
            "None\n"
          ],
          "name": "stdout"
        }
      ]
    },
    {
      "metadata": {
        "id": "NHJhAGh-sfwT",
        "colab_type": "text"
      },
      "cell_type": "markdown",
      "source": [
        "**Describe the training set**"
      ]
    },
    {
      "metadata": {
        "id": "Vvsj5Hi_sfwY",
        "colab_type": "code",
        "colab": {},
        "outputId": "87296932-a1a0-4b68-a8f7-02c31971a4c9"
      },
      "cell_type": "code",
      "source": [
        "train.describe()\n"
      ],
      "execution_count": 0,
      "outputs": [
        {
          "output_type": "execute_result",
          "data": {
            "text/html": [
              "<div>\n",
              "<style scoped>\n",
              "    .dataframe tbody tr th:only-of-type {\n",
              "        vertical-align: middle;\n",
              "    }\n",
              "\n",
              "    .dataframe tbody tr th {\n",
              "        vertical-align: top;\n",
              "    }\n",
              "\n",
              "    .dataframe thead th {\n",
              "        text-align: right;\n",
              "    }\n",
              "</style>\n",
              "<table border=\"1\" class=\"dataframe\">\n",
              "  <thead>\n",
              "    <tr style=\"text-align: right;\">\n",
              "      <th></th>\n",
              "      <th>target</th>\n",
              "      <th>var_0</th>\n",
              "      <th>var_1</th>\n",
              "      <th>var_2</th>\n",
              "      <th>var_3</th>\n",
              "      <th>var_4</th>\n",
              "      <th>var_5</th>\n",
              "      <th>var_6</th>\n",
              "      <th>var_7</th>\n",
              "      <th>var_8</th>\n",
              "      <th>...</th>\n",
              "      <th>var_190</th>\n",
              "      <th>var_191</th>\n",
              "      <th>var_192</th>\n",
              "      <th>var_193</th>\n",
              "      <th>var_194</th>\n",
              "      <th>var_195</th>\n",
              "      <th>var_196</th>\n",
              "      <th>var_197</th>\n",
              "      <th>var_198</th>\n",
              "      <th>var_199</th>\n",
              "    </tr>\n",
              "  </thead>\n",
              "  <tbody>\n",
              "    <tr>\n",
              "      <th>count</th>\n",
              "      <td>200000.000000</td>\n",
              "      <td>200000.000000</td>\n",
              "      <td>200000.000000</td>\n",
              "      <td>200000.000000</td>\n",
              "      <td>200000.000000</td>\n",
              "      <td>200000.000000</td>\n",
              "      <td>200000.000000</td>\n",
              "      <td>200000.000000</td>\n",
              "      <td>200000.000000</td>\n",
              "      <td>200000.000000</td>\n",
              "      <td>...</td>\n",
              "      <td>200000.000000</td>\n",
              "      <td>200000.000000</td>\n",
              "      <td>200000.000000</td>\n",
              "      <td>200000.000000</td>\n",
              "      <td>200000.000000</td>\n",
              "      <td>200000.000000</td>\n",
              "      <td>200000.000000</td>\n",
              "      <td>200000.000000</td>\n",
              "      <td>200000.000000</td>\n",
              "      <td>200000.000000</td>\n",
              "    </tr>\n",
              "    <tr>\n",
              "      <th>mean</th>\n",
              "      <td>0.100490</td>\n",
              "      <td>10.679914</td>\n",
              "      <td>-1.627622</td>\n",
              "      <td>10.715192</td>\n",
              "      <td>6.796529</td>\n",
              "      <td>11.078333</td>\n",
              "      <td>-5.065317</td>\n",
              "      <td>5.408949</td>\n",
              "      <td>16.545850</td>\n",
              "      <td>0.284162</td>\n",
              "      <td>...</td>\n",
              "      <td>3.234440</td>\n",
              "      <td>7.438408</td>\n",
              "      <td>1.927839</td>\n",
              "      <td>3.331774</td>\n",
              "      <td>17.993784</td>\n",
              "      <td>-0.142088</td>\n",
              "      <td>2.303335</td>\n",
              "      <td>8.908158</td>\n",
              "      <td>15.870720</td>\n",
              "      <td>-3.326537</td>\n",
              "    </tr>\n",
              "    <tr>\n",
              "      <th>std</th>\n",
              "      <td>0.300653</td>\n",
              "      <td>3.040051</td>\n",
              "      <td>4.050044</td>\n",
              "      <td>2.640894</td>\n",
              "      <td>2.043319</td>\n",
              "      <td>1.623150</td>\n",
              "      <td>7.863267</td>\n",
              "      <td>0.866607</td>\n",
              "      <td>3.418076</td>\n",
              "      <td>3.332634</td>\n",
              "      <td>...</td>\n",
              "      <td>4.559922</td>\n",
              "      <td>3.023272</td>\n",
              "      <td>1.478423</td>\n",
              "      <td>3.992030</td>\n",
              "      <td>3.135162</td>\n",
              "      <td>1.429372</td>\n",
              "      <td>5.454369</td>\n",
              "      <td>0.921625</td>\n",
              "      <td>3.010945</td>\n",
              "      <td>10.438015</td>\n",
              "    </tr>\n",
              "    <tr>\n",
              "      <th>min</th>\n",
              "      <td>0.000000</td>\n",
              "      <td>0.408400</td>\n",
              "      <td>-15.043400</td>\n",
              "      <td>2.117100</td>\n",
              "      <td>-0.040200</td>\n",
              "      <td>5.074800</td>\n",
              "      <td>-32.562600</td>\n",
              "      <td>2.347300</td>\n",
              "      <td>5.349700</td>\n",
              "      <td>-10.505500</td>\n",
              "      <td>...</td>\n",
              "      <td>-14.093300</td>\n",
              "      <td>-2.691700</td>\n",
              "      <td>-3.814500</td>\n",
              "      <td>-11.783400</td>\n",
              "      <td>8.694400</td>\n",
              "      <td>-5.261000</td>\n",
              "      <td>-14.209600</td>\n",
              "      <td>5.960600</td>\n",
              "      <td>6.299300</td>\n",
              "      <td>-38.852800</td>\n",
              "    </tr>\n",
              "    <tr>\n",
              "      <th>25%</th>\n",
              "      <td>0.000000</td>\n",
              "      <td>8.453850</td>\n",
              "      <td>-4.740025</td>\n",
              "      <td>8.722475</td>\n",
              "      <td>5.254075</td>\n",
              "      <td>9.883175</td>\n",
              "      <td>-11.200350</td>\n",
              "      <td>4.767700</td>\n",
              "      <td>13.943800</td>\n",
              "      <td>-2.317800</td>\n",
              "      <td>...</td>\n",
              "      <td>-0.058825</td>\n",
              "      <td>5.157400</td>\n",
              "      <td>0.889775</td>\n",
              "      <td>0.584600</td>\n",
              "      <td>15.629800</td>\n",
              "      <td>-1.170700</td>\n",
              "      <td>-1.946925</td>\n",
              "      <td>8.252800</td>\n",
              "      <td>13.829700</td>\n",
              "      <td>-11.208475</td>\n",
              "    </tr>\n",
              "    <tr>\n",
              "      <th>50%</th>\n",
              "      <td>0.000000</td>\n",
              "      <td>10.524750</td>\n",
              "      <td>-1.608050</td>\n",
              "      <td>10.580000</td>\n",
              "      <td>6.825000</td>\n",
              "      <td>11.108250</td>\n",
              "      <td>-4.833150</td>\n",
              "      <td>5.385100</td>\n",
              "      <td>16.456800</td>\n",
              "      <td>0.393700</td>\n",
              "      <td>...</td>\n",
              "      <td>3.203600</td>\n",
              "      <td>7.347750</td>\n",
              "      <td>1.901300</td>\n",
              "      <td>3.396350</td>\n",
              "      <td>17.957950</td>\n",
              "      <td>-0.172700</td>\n",
              "      <td>2.408900</td>\n",
              "      <td>8.888200</td>\n",
              "      <td>15.934050</td>\n",
              "      <td>-2.819550</td>\n",
              "    </tr>\n",
              "    <tr>\n",
              "      <th>75%</th>\n",
              "      <td>0.000000</td>\n",
              "      <td>12.758200</td>\n",
              "      <td>1.358625</td>\n",
              "      <td>12.516700</td>\n",
              "      <td>8.324100</td>\n",
              "      <td>12.261125</td>\n",
              "      <td>0.924800</td>\n",
              "      <td>6.003000</td>\n",
              "      <td>19.102900</td>\n",
              "      <td>2.937900</td>\n",
              "      <td>...</td>\n",
              "      <td>6.406200</td>\n",
              "      <td>9.512525</td>\n",
              "      <td>2.949500</td>\n",
              "      <td>6.205800</td>\n",
              "      <td>20.396525</td>\n",
              "      <td>0.829600</td>\n",
              "      <td>6.556725</td>\n",
              "      <td>9.593300</td>\n",
              "      <td>18.064725</td>\n",
              "      <td>4.836800</td>\n",
              "    </tr>\n",
              "    <tr>\n",
              "      <th>max</th>\n",
              "      <td>1.000000</td>\n",
              "      <td>20.315000</td>\n",
              "      <td>10.376800</td>\n",
              "      <td>19.353000</td>\n",
              "      <td>13.188300</td>\n",
              "      <td>16.671400</td>\n",
              "      <td>17.251600</td>\n",
              "      <td>8.447700</td>\n",
              "      <td>27.691800</td>\n",
              "      <td>10.151300</td>\n",
              "      <td>...</td>\n",
              "      <td>18.440900</td>\n",
              "      <td>16.716500</td>\n",
              "      <td>8.402400</td>\n",
              "      <td>18.281800</td>\n",
              "      <td>27.928800</td>\n",
              "      <td>4.272900</td>\n",
              "      <td>18.321500</td>\n",
              "      <td>12.000400</td>\n",
              "      <td>26.079100</td>\n",
              "      <td>28.500700</td>\n",
              "    </tr>\n",
              "  </tbody>\n",
              "</table>\n",
              "<p>8 rows × 201 columns</p>\n",
              "</div>"
            ],
            "text/plain": [
              "              target          var_0          var_1          var_2  \\\n",
              "count  200000.000000  200000.000000  200000.000000  200000.000000   \n",
              "mean        0.100490      10.679914      -1.627622      10.715192   \n",
              "std         0.300653       3.040051       4.050044       2.640894   \n",
              "min         0.000000       0.408400     -15.043400       2.117100   \n",
              "25%         0.000000       8.453850      -4.740025       8.722475   \n",
              "50%         0.000000      10.524750      -1.608050      10.580000   \n",
              "75%         0.000000      12.758200       1.358625      12.516700   \n",
              "max         1.000000      20.315000      10.376800      19.353000   \n",
              "\n",
              "               var_3          var_4          var_5          var_6  \\\n",
              "count  200000.000000  200000.000000  200000.000000  200000.000000   \n",
              "mean        6.796529      11.078333      -5.065317       5.408949   \n",
              "std         2.043319       1.623150       7.863267       0.866607   \n",
              "min        -0.040200       5.074800     -32.562600       2.347300   \n",
              "25%         5.254075       9.883175     -11.200350       4.767700   \n",
              "50%         6.825000      11.108250      -4.833150       5.385100   \n",
              "75%         8.324100      12.261125       0.924800       6.003000   \n",
              "max        13.188300      16.671400      17.251600       8.447700   \n",
              "\n",
              "               var_7          var_8      ...              var_190  \\\n",
              "count  200000.000000  200000.000000      ...        200000.000000   \n",
              "mean       16.545850       0.284162      ...             3.234440   \n",
              "std         3.418076       3.332634      ...             4.559922   \n",
              "min         5.349700     -10.505500      ...           -14.093300   \n",
              "25%        13.943800      -2.317800      ...            -0.058825   \n",
              "50%        16.456800       0.393700      ...             3.203600   \n",
              "75%        19.102900       2.937900      ...             6.406200   \n",
              "max        27.691800      10.151300      ...            18.440900   \n",
              "\n",
              "             var_191        var_192        var_193        var_194  \\\n",
              "count  200000.000000  200000.000000  200000.000000  200000.000000   \n",
              "mean        7.438408       1.927839       3.331774      17.993784   \n",
              "std         3.023272       1.478423       3.992030       3.135162   \n",
              "min        -2.691700      -3.814500     -11.783400       8.694400   \n",
              "25%         5.157400       0.889775       0.584600      15.629800   \n",
              "50%         7.347750       1.901300       3.396350      17.957950   \n",
              "75%         9.512525       2.949500       6.205800      20.396525   \n",
              "max        16.716500       8.402400      18.281800      27.928800   \n",
              "\n",
              "             var_195        var_196        var_197        var_198  \\\n",
              "count  200000.000000  200000.000000  200000.000000  200000.000000   \n",
              "mean       -0.142088       2.303335       8.908158      15.870720   \n",
              "std         1.429372       5.454369       0.921625       3.010945   \n",
              "min        -5.261000     -14.209600       5.960600       6.299300   \n",
              "25%        -1.170700      -1.946925       8.252800      13.829700   \n",
              "50%        -0.172700       2.408900       8.888200      15.934050   \n",
              "75%         0.829600       6.556725       9.593300      18.064725   \n",
              "max         4.272900      18.321500      12.000400      26.079100   \n",
              "\n",
              "             var_199  \n",
              "count  200000.000000  \n",
              "mean       -3.326537  \n",
              "std        10.438015  \n",
              "min       -38.852800  \n",
              "25%       -11.208475  \n",
              "50%        -2.819550  \n",
              "75%         4.836800  \n",
              "max        28.500700  \n",
              "\n",
              "[8 rows x 201 columns]"
            ]
          },
          "metadata": {
            "tags": []
          },
          "execution_count": 10
        }
      ]
    },
    {
      "metadata": {
        "id": "B6rQZm2Esfwh",
        "colab_type": "text"
      },
      "cell_type": "markdown",
      "source": [
        " # Santander Data Science Frameworks"
      ]
    },
    {
      "metadata": {
        "id": "l29K6Rfxsfwj",
        "colab_type": "code",
        "colab": {}
      },
      "cell_type": "code",
      "source": [
        "from sklearn.model_selection import train_test_split\n",
        "from sklearn.model_selection import StratifiedKFold\n",
        "from sklearn.ensemble import RandomForestClassifier\n",
        "from sklearn.tree import DecisionTreeClassifier\n",
        "from IPython.display import display\n",
        "import matplotlib.patches as patch\n",
        "import matplotlib.pyplot as plt\n",
        "from sklearn.svm import NuSVR\n",
        "from scipy.stats import norm\n",
        "from sklearn import svm\n",
        "import lightgbm as lgb\n",
        "import xgboost as xgb\n",
        "import seaborn as sns\n",
        "import pandas as pd\n",
        "import numpy as np\n",
        "import warnings\n",
        "import time\n",
        "import glob\n",
        "import sys\n",
        "import os\n",
        "import gc\n"
      ],
      "execution_count": 0,
      "outputs": []
    },
    {
      "metadata": {
        "id": "jnjXgUb5sfwq",
        "colab_type": "text"
      },
      "cell_type": "markdown",
      "source": [
        ""
      ]
    },
    {
      "metadata": {
        "id": "z6tgHRJlsfwr",
        "colab_type": "code",
        "colab": {},
        "outputId": "9e07eb3a-88be-4eb8-f0d4-e70a90ea133e"
      },
      "cell_type": "code",
      "source": [
        "train[train.columns[2:]].mean().plot('hist')\n",
        "plt.savefig('meanfrequency')\n",
        "plt.title('Mean frequency')\n",
        "plt.show\n"
      ],
      "execution_count": 0,
      "outputs": [
        {
          "output_type": "execute_result",
          "data": {
            "text/plain": [
              "<function matplotlib.pyplot.show(*args, **kw)>"
            ]
          },
          "metadata": {
            "tags": []
          },
          "execution_count": 12
        },
        {
          "output_type": "display_data",
          "data": {
            "image/png": "[encoded data removed]",
            "text/plain": [
              "<Figure size 432x288 with 1 Axes>"
            ]
          },
          "metadata": {
            "tags": [],
            "needs_background": "dark"
          }
        }
      ]
    },
    {
      "metadata": {
        "id": "SRk6aTeVsfw2",
        "colab_type": "text"
      },
      "cell_type": "markdown",
      "source": [
        ""
      ]
    },
    {
      "metadata": {
        "id": "U8nFMD1Usfw4",
        "colab_type": "code",
        "colab": {},
        "outputId": "37f371b8-f314-4445-dac8-e5440d238983"
      },
      "cell_type": "code",
      "source": [
        "train['target'].value_counts().plot.pie()\n"
      ],
      "execution_count": 0,
      "outputs": [
        {
          "output_type": "execute_result",
          "data": {
            "text/plain": [
              "<matplotlib.axes._subplots.AxesSubplot at 0x7f772705ef98>"
            ]
          },
          "metadata": {
            "tags": []
          },
          "execution_count": 13
        },
        {
          "output_type": "display_data",
          "data": {
            "image/png": "[encoded data removed]",
            "text/plain": [
              "<Figure size 432x288 with 1 Axes>"
            ]
          },
          "metadata": {
            "tags": []
          }
        }
      ]
    },
    {
      "metadata": {
        "id": "eV_2xb7nsfxC",
        "colab_type": "text"
      },
      "cell_type": "markdown",
      "source": [
        ""
      ]
    },
    {
      "metadata": {
        "id": "Sq5B5jPvsfxE",
        "colab_type": "code",
        "colab": {},
        "outputId": "263d6937-8487-497b-e0f7-349815b1d08d"
      },
      "cell_type": "code",
      "source": [
        "sns.countplot(x='target',data=train)\n"
      ],
      "execution_count": 0,
      "outputs": [
        {
          "output_type": "execute_result",
          "data": {
            "text/plain": [
              "<matplotlib.axes._subplots.AxesSubplot at 0x7f7726fd8e10>"
            ]
          },
          "metadata": {
            "tags": []
          },
          "execution_count": 14
        },
        {
          "output_type": "display_data",
          "data": {
            "image/png": "[encoded data removed]",
            "text/plain": [
              "<Figure size 432x288 with 1 Axes>"
            ]
          },
          "metadata": {
            "tags": [],
            "needs_background": "dark"
          }
        }
      ]
    },
    {
      "metadata": {
        "id": "XdeSpuSesfxM",
        "colab_type": "text"
      },
      "cell_type": "markdown",
      "source": [
        ""
      ]
    },
    {
      "metadata": {
        "id": "2vEz_s6WsfxO",
        "colab_type": "code",
        "colab": {},
        "outputId": "2fd2218d-51bb-428a-81e5-b08a2a8db63f"
      },
      "cell_type": "code",
      "source": [
        "train[\"var_0\"].hist()\n",
        "plt.savefig('var_0fig')\n",
        "plt.show()\n",
        "train[\"var_81\"].hist()\n",
        "plt.savefig('var_81fig')\n",
        "plt.show()\n"
      ],
      "execution_count": 0,
      "outputs": [
        {
          "output_type": "display_data",
          "data": {
            "image/png": "[encoded data removed]",
            "text/plain": [
              "<Figure size 432x288 with 1 Axes>"
            ]
          },
          "metadata": {
            "tags": [],
            "needs_background": "dark"
          }
        },
        {
          "output_type": "display_data",
          "data": {
            "image/png": "[encoded data removed]",
            "text/plain": [
              "<Figure size 432x288 with 1 Axes>"
            ]
          },
          "metadata": {
            "tags": [],
            "needs_background": "dark"
          }
        }
      ]
    },
    {
      "metadata": {
        "id": "g6dqxsEPsfxc",
        "colab_type": "text"
      },
      "cell_type": "markdown",
      "source": [
        ""
      ]
    },
    {
      "metadata": {
        "id": "mxvIHLwwsfxh",
        "colab_type": "code",
        "colab": {},
        "outputId": "abbb2392-e4de-41b8-980e-b54880b759be"
      },
      "cell_type": "code",
      "source": [
        "sns.distplot(train['target'])\n",
        "\n"
      ],
      "execution_count": 0,
      "outputs": [
        {
          "output_type": "stream",
          "text": [
            "/usr/local/lib/python3.6/dist-packages/scipy/stats/stats.py:1713: FutureWarning: Using a non-tuple sequence for multidimensional indexing is deprecated; use `arr[tuple(seq)]` instead of `arr[seq]`. In the future this will be interpreted as an array index, `arr[np.array(seq)]`, which will result either in an error or a different result.\n",
            "  return np.add.reduce(sorted[indexer] * weights, axis=axis) / sumval\n"
          ],
          "name": "stderr"
        },
        {
          "output_type": "execute_result",
          "data": {
            "text/plain": [
              "<matplotlib.axes._subplots.AxesSubplot at 0x7f7726f68d30>"
            ]
          },
          "metadata": {
            "tags": []
          },
          "execution_count": 16
        },
        {
          "output_type": "display_data",
          "data": {
            "image/png": "[encoded data removed]",
            "text/plain": [
              "<Figure size 432x288 with 1 Axes>"
            ]
          },
          "metadata": {
            "tags": [],
            "needs_background": "dark"
          }
        }
      ]
    },
    {
      "metadata": {
        "id": "hA2aI-Eosfxs",
        "colab_type": "text"
      },
      "cell_type": "markdown",
      "source": [
        ""
      ]
    },
    {
      "metadata": {
        "id": "3hLAD_Cusfxt",
        "colab_type": "code",
        "colab": {},
        "outputId": "ef4f15bb-d328-4e15-c824-fd038619aac8"
      },
      "cell_type": "code",
      "source": [
        "sns.violinplot(x='target',data=train,y='var_81')\n"
      ],
      "execution_count": 0,
      "outputs": [
        {
          "output_type": "execute_result",
          "data": {
            "text/plain": [
              "<matplotlib.axes._subplots.AxesSubplot at 0x7f7726ef40b8>"
            ]
          },
          "metadata": {
            "tags": []
          },
          "execution_count": 17
        },
        {
          "output_type": "display_data",
          "data": {
            "image/png": "[encoded data removed]",
            "text/plain": [
              "<Figure size 432x288 with 1 Axes>"
            ]
          },
          "metadata": {
            "tags": [],
            "needs_background": "dark"
          }
        }
      ]
    },
    {
      "metadata": {
        "id": "iZbxyI8isfx4",
        "colab_type": "text"
      },
      "cell_type": "markdown",
      "source": [
        " # For checking the null value is present in the columsn or not"
      ]
    },
    {
      "metadata": {
        "id": "upzgAa1Hsfx7",
        "colab_type": "code",
        "colab": {},
        "outputId": "c159020f-9809-4146-f108-a18d1bef9acb"
      },
      "cell_type": "code",
      "source": [
        "train.isnull().sum()\n"
      ],
      "execution_count": 0,
      "outputs": [
        {
          "output_type": "execute_result",
          "data": {
            "text/plain": [
              "ID_code    0\n",
              "target     0\n",
              "var_0      0\n",
              "var_1      0\n",
              "var_2      0\n",
              "var_3      0\n",
              "var_4      0\n",
              "var_5      0\n",
              "var_6      0\n",
              "var_7      0\n",
              "var_8      0\n",
              "var_9      0\n",
              "var_10     0\n",
              "var_11     0\n",
              "var_12     0\n",
              "var_13     0\n",
              "var_14     0\n",
              "var_15     0\n",
              "var_16     0\n",
              "var_17     0\n",
              "var_18     0\n",
              "var_19     0\n",
              "var_20     0\n",
              "var_21     0\n",
              "var_22     0\n",
              "var_23     0\n",
              "var_24     0\n",
              "var_25     0\n",
              "var_26     0\n",
              "var_27     0\n",
              "          ..\n",
              "var_170    0\n",
              "var_171    0\n",
              "var_172    0\n",
              "var_173    0\n",
              "var_174    0\n",
              "var_175    0\n",
              "var_176    0\n",
              "var_177    0\n",
              "var_178    0\n",
              "var_179    0\n",
              "var_180    0\n",
              "var_181    0\n",
              "var_182    0\n",
              "var_183    0\n",
              "var_184    0\n",
              "var_185    0\n",
              "var_186    0\n",
              "var_187    0\n",
              "var_188    0\n",
              "var_189    0\n",
              "var_190    0\n",
              "var_191    0\n",
              "var_192    0\n",
              "var_193    0\n",
              "var_194    0\n",
              "var_195    0\n",
              "var_196    0\n",
              "var_197    0\n",
              "var_198    0\n",
              "var_199    0\n",
              "Length: 202, dtype: int64"
            ]
          },
          "metadata": {
            "tags": []
          },
          "execution_count": 18
        }
      ]
    },
    {
      "metadata": {
        "id": "_aCo6mG4sfyJ",
        "colab_type": "text"
      },
      "cell_type": "markdown",
      "source": [
        " # Binary Classification"
      ]
    },
    {
      "metadata": {
        "id": "gYaWV3pJsfyK",
        "colab_type": "code",
        "colab": {},
        "outputId": "6edffea1-14a4-4cf4-882a-457b2340756c"
      },
      "cell_type": "code",
      "source": [
        "train['target'].unique()\n"
      ],
      "execution_count": 0,
      "outputs": [
        {
          "output_type": "execute_result",
          "data": {
            "text/plain": [
              "array([0, 1])"
            ]
          },
          "metadata": {
            "tags": []
          },
          "execution_count": 19
        }
      ]
    },
    {
      "metadata": {
        "id": "nQT3jshAsfyP",
        "colab_type": "text"
      },
      "cell_type": "markdown",
      "source": [
        ""
      ]
    },
    {
      "metadata": {
        "id": "0TfWRWhdsfyQ",
        "colab_type": "code",
        "colab": {},
        "outputId": "ed58acf9-42fe-40c9-f573-af2a37db05d5"
      },
      "cell_type": "code",
      "source": [
        "train.head(20)\n"
      ],
      "execution_count": 0,
      "outputs": [
        {
          "output_type": "execute_result",
          "data": {
            "text/html": [
              "<div>\n",
              "<style scoped>\n",
              "    .dataframe tbody tr th:only-of-type {\n",
              "        vertical-align: middle;\n",
              "    }\n",
              "\n",
              "    .dataframe tbody tr th {\n",
              "        vertical-align: top;\n",
              "    }\n",
              "\n",
              "    .dataframe thead th {\n",
              "        text-align: right;\n",
              "    }\n",
              "</style>\n",
              "<table border=\"1\" class=\"dataframe\">\n",
              "  <thead>\n",
              "    <tr style=\"text-align: right;\">\n",
              "      <th></th>\n",
              "      <th>ID_code</th>\n",
              "      <th>target</th>\n",
              "      <th>var_0</th>\n",
              "      <th>var_1</th>\n",
              "      <th>var_2</th>\n",
              "      <th>var_3</th>\n",
              "      <th>var_4</th>\n",
              "      <th>var_5</th>\n",
              "      <th>var_6</th>\n",
              "      <th>var_7</th>\n",
              "      <th>...</th>\n",
              "      <th>var_190</th>\n",
              "      <th>var_191</th>\n",
              "      <th>var_192</th>\n",
              "      <th>var_193</th>\n",
              "      <th>var_194</th>\n",
              "      <th>var_195</th>\n",
              "      <th>var_196</th>\n",
              "      <th>var_197</th>\n",
              "      <th>var_198</th>\n",
              "      <th>var_199</th>\n",
              "    </tr>\n",
              "  </thead>\n",
              "  <tbody>\n",
              "    <tr>\n",
              "      <th>0</th>\n",
              "      <td>train_0</td>\n",
              "      <td>0</td>\n",
              "      <td>8.9255</td>\n",
              "      <td>-6.7863</td>\n",
              "      <td>11.9081</td>\n",
              "      <td>5.0930</td>\n",
              "      <td>11.4607</td>\n",
              "      <td>-9.2834</td>\n",
              "      <td>5.1187</td>\n",
              "      <td>18.6266</td>\n",
              "      <td>...</td>\n",
              "      <td>4.4354</td>\n",
              "      <td>3.9642</td>\n",
              "      <td>3.1364</td>\n",
              "      <td>1.6910</td>\n",
              "      <td>18.5227</td>\n",
              "      <td>-2.3978</td>\n",
              "      <td>7.8784</td>\n",
              "      <td>8.5635</td>\n",
              "      <td>12.7803</td>\n",
              "      <td>-1.0914</td>\n",
              "    </tr>\n",
              "    <tr>\n",
              "      <th>1</th>\n",
              "      <td>train_1</td>\n",
              "      <td>0</td>\n",
              "      <td>11.5006</td>\n",
              "      <td>-4.1473</td>\n",
              "      <td>13.8588</td>\n",
              "      <td>5.3890</td>\n",
              "      <td>12.3622</td>\n",
              "      <td>7.0433</td>\n",
              "      <td>5.6208</td>\n",
              "      <td>16.5338</td>\n",
              "      <td>...</td>\n",
              "      <td>7.6421</td>\n",
              "      <td>7.7214</td>\n",
              "      <td>2.5837</td>\n",
              "      <td>10.9516</td>\n",
              "      <td>15.4305</td>\n",
              "      <td>2.0339</td>\n",
              "      <td>8.1267</td>\n",
              "      <td>8.7889</td>\n",
              "      <td>18.3560</td>\n",
              "      <td>1.9518</td>\n",
              "    </tr>\n",
              "    <tr>\n",
              "      <th>2</th>\n",
              "      <td>train_2</td>\n",
              "      <td>0</td>\n",
              "      <td>8.6093</td>\n",
              "      <td>-2.7457</td>\n",
              "      <td>12.0805</td>\n",
              "      <td>7.8928</td>\n",
              "      <td>10.5825</td>\n",
              "      <td>-9.0837</td>\n",
              "      <td>6.9427</td>\n",
              "      <td>14.6155</td>\n",
              "      <td>...</td>\n",
              "      <td>2.9057</td>\n",
              "      <td>9.7905</td>\n",
              "      <td>1.6704</td>\n",
              "      <td>1.6858</td>\n",
              "      <td>21.6042</td>\n",
              "      <td>3.1417</td>\n",
              "      <td>-6.5213</td>\n",
              "      <td>8.2675</td>\n",
              "      <td>14.7222</td>\n",
              "      <td>0.3965</td>\n",
              "    </tr>\n",
              "    <tr>\n",
              "      <th>3</th>\n",
              "      <td>train_3</td>\n",
              "      <td>0</td>\n",
              "      <td>11.0604</td>\n",
              "      <td>-2.1518</td>\n",
              "      <td>8.9522</td>\n",
              "      <td>7.1957</td>\n",
              "      <td>12.5846</td>\n",
              "      <td>-1.8361</td>\n",
              "      <td>5.8428</td>\n",
              "      <td>14.9250</td>\n",
              "      <td>...</td>\n",
              "      <td>4.4666</td>\n",
              "      <td>4.7433</td>\n",
              "      <td>0.7178</td>\n",
              "      <td>1.4214</td>\n",
              "      <td>23.0347</td>\n",
              "      <td>-1.2706</td>\n",
              "      <td>-2.9275</td>\n",
              "      <td>10.2922</td>\n",
              "      <td>17.9697</td>\n",
              "      <td>-8.9996</td>\n",
              "    </tr>\n",
              "    <tr>\n",
              "      <th>4</th>\n",
              "      <td>train_4</td>\n",
              "      <td>0</td>\n",
              "      <td>9.8369</td>\n",
              "      <td>-1.4834</td>\n",
              "      <td>12.8746</td>\n",
              "      <td>6.6375</td>\n",
              "      <td>12.2772</td>\n",
              "      <td>2.4486</td>\n",
              "      <td>5.9405</td>\n",
              "      <td>19.2514</td>\n",
              "      <td>...</td>\n",
              "      <td>-1.4905</td>\n",
              "      <td>9.5214</td>\n",
              "      <td>-0.1508</td>\n",
              "      <td>9.1942</td>\n",
              "      <td>13.2876</td>\n",
              "      <td>-1.5121</td>\n",
              "      <td>3.9267</td>\n",
              "      <td>9.5031</td>\n",
              "      <td>17.9974</td>\n",
              "      <td>-8.8104</td>\n",
              "    </tr>\n",
              "    <tr>\n",
              "      <th>5</th>\n",
              "      <td>train_5</td>\n",
              "      <td>0</td>\n",
              "      <td>11.4763</td>\n",
              "      <td>-2.3182</td>\n",
              "      <td>12.6080</td>\n",
              "      <td>8.6264</td>\n",
              "      <td>10.9621</td>\n",
              "      <td>3.5609</td>\n",
              "      <td>4.5322</td>\n",
              "      <td>15.2255</td>\n",
              "      <td>...</td>\n",
              "      <td>-6.3068</td>\n",
              "      <td>6.6025</td>\n",
              "      <td>5.2912</td>\n",
              "      <td>0.4403</td>\n",
              "      <td>14.9452</td>\n",
              "      <td>1.0314</td>\n",
              "      <td>-3.6241</td>\n",
              "      <td>9.7670</td>\n",
              "      <td>12.5809</td>\n",
              "      <td>-4.7602</td>\n",
              "    </tr>\n",
              "    <tr>\n",
              "      <th>6</th>\n",
              "      <td>train_6</td>\n",
              "      <td>0</td>\n",
              "      <td>11.8091</td>\n",
              "      <td>-0.0832</td>\n",
              "      <td>9.3494</td>\n",
              "      <td>4.2916</td>\n",
              "      <td>11.1355</td>\n",
              "      <td>-8.0198</td>\n",
              "      <td>6.1961</td>\n",
              "      <td>12.0771</td>\n",
              "      <td>...</td>\n",
              "      <td>8.7830</td>\n",
              "      <td>6.4521</td>\n",
              "      <td>3.5325</td>\n",
              "      <td>0.1777</td>\n",
              "      <td>18.3314</td>\n",
              "      <td>0.5845</td>\n",
              "      <td>9.1104</td>\n",
              "      <td>9.1143</td>\n",
              "      <td>10.8869</td>\n",
              "      <td>-3.2097</td>\n",
              "    </tr>\n",
              "    <tr>\n",
              "      <th>7</th>\n",
              "      <td>train_7</td>\n",
              "      <td>0</td>\n",
              "      <td>13.5580</td>\n",
              "      <td>-7.9881</td>\n",
              "      <td>13.8776</td>\n",
              "      <td>7.5985</td>\n",
              "      <td>8.6543</td>\n",
              "      <td>0.8310</td>\n",
              "      <td>5.6890</td>\n",
              "      <td>22.3262</td>\n",
              "      <td>...</td>\n",
              "      <td>13.1700</td>\n",
              "      <td>6.5491</td>\n",
              "      <td>3.9906</td>\n",
              "      <td>5.8061</td>\n",
              "      <td>23.1407</td>\n",
              "      <td>-0.3776</td>\n",
              "      <td>4.2178</td>\n",
              "      <td>9.4237</td>\n",
              "      <td>8.6624</td>\n",
              "      <td>3.4806</td>\n",
              "    </tr>\n",
              "    <tr>\n",
              "      <th>8</th>\n",
              "      <td>train_8</td>\n",
              "      <td>0</td>\n",
              "      <td>16.1071</td>\n",
              "      <td>2.4426</td>\n",
              "      <td>13.9307</td>\n",
              "      <td>5.6327</td>\n",
              "      <td>8.8014</td>\n",
              "      <td>6.1630</td>\n",
              "      <td>4.4514</td>\n",
              "      <td>10.1854</td>\n",
              "      <td>...</td>\n",
              "      <td>1.4298</td>\n",
              "      <td>14.7510</td>\n",
              "      <td>1.6395</td>\n",
              "      <td>1.4181</td>\n",
              "      <td>14.8370</td>\n",
              "      <td>-1.9940</td>\n",
              "      <td>-1.0733</td>\n",
              "      <td>8.1975</td>\n",
              "      <td>19.5114</td>\n",
              "      <td>4.8453</td>\n",
              "    </tr>\n",
              "    <tr>\n",
              "      <th>9</th>\n",
              "      <td>train_9</td>\n",
              "      <td>0</td>\n",
              "      <td>12.5088</td>\n",
              "      <td>1.9743</td>\n",
              "      <td>8.8960</td>\n",
              "      <td>5.4508</td>\n",
              "      <td>13.6043</td>\n",
              "      <td>-16.2859</td>\n",
              "      <td>6.0637</td>\n",
              "      <td>16.8410</td>\n",
              "      <td>...</td>\n",
              "      <td>0.5543</td>\n",
              "      <td>6.3160</td>\n",
              "      <td>1.0371</td>\n",
              "      <td>3.6885</td>\n",
              "      <td>14.8344</td>\n",
              "      <td>0.4467</td>\n",
              "      <td>14.1287</td>\n",
              "      <td>7.9133</td>\n",
              "      <td>16.2375</td>\n",
              "      <td>14.2514</td>\n",
              "    </tr>\n",
              "    <tr>\n",
              "      <th>10</th>\n",
              "      <td>train_10</td>\n",
              "      <td>0</td>\n",
              "      <td>5.0702</td>\n",
              "      <td>-0.5447</td>\n",
              "      <td>9.5900</td>\n",
              "      <td>4.2987</td>\n",
              "      <td>12.3910</td>\n",
              "      <td>-18.8687</td>\n",
              "      <td>6.0382</td>\n",
              "      <td>14.3797</td>\n",
              "      <td>...</td>\n",
              "      <td>7.2780</td>\n",
              "      <td>8.0819</td>\n",
              "      <td>0.2139</td>\n",
              "      <td>-0.0761</td>\n",
              "      <td>14.9585</td>\n",
              "      <td>-1.2160</td>\n",
              "      <td>6.6576</td>\n",
              "      <td>9.2553</td>\n",
              "      <td>14.2914</td>\n",
              "      <td>-7.6652</td>\n",
              "    </tr>\n",
              "    <tr>\n",
              "      <th>11</th>\n",
              "      <td>train_11</td>\n",
              "      <td>0</td>\n",
              "      <td>12.7188</td>\n",
              "      <td>-7.9750</td>\n",
              "      <td>10.3757</td>\n",
              "      <td>9.0101</td>\n",
              "      <td>12.8570</td>\n",
              "      <td>-12.0852</td>\n",
              "      <td>5.6464</td>\n",
              "      <td>11.8370</td>\n",
              "      <td>...</td>\n",
              "      <td>-0.8901</td>\n",
              "      <td>2.6559</td>\n",
              "      <td>-0.0503</td>\n",
              "      <td>5.5946</td>\n",
              "      <td>13.6152</td>\n",
              "      <td>2.4058</td>\n",
              "      <td>-1.7183</td>\n",
              "      <td>9.6745</td>\n",
              "      <td>16.7498</td>\n",
              "      <td>-3.9728</td>\n",
              "    </tr>\n",
              "    <tr>\n",
              "      <th>12</th>\n",
              "      <td>train_12</td>\n",
              "      <td>0</td>\n",
              "      <td>8.7671</td>\n",
              "      <td>-4.6154</td>\n",
              "      <td>9.7242</td>\n",
              "      <td>7.4242</td>\n",
              "      <td>9.0254</td>\n",
              "      <td>1.4247</td>\n",
              "      <td>6.2815</td>\n",
              "      <td>12.3143</td>\n",
              "      <td>...</td>\n",
              "      <td>0.3782</td>\n",
              "      <td>7.4382</td>\n",
              "      <td>0.0854</td>\n",
              "      <td>1.3444</td>\n",
              "      <td>17.2439</td>\n",
              "      <td>-0.0798</td>\n",
              "      <td>5.7389</td>\n",
              "      <td>8.4897</td>\n",
              "      <td>17.0938</td>\n",
              "      <td>4.6106</td>\n",
              "    </tr>\n",
              "    <tr>\n",
              "      <th>13</th>\n",
              "      <td>train_13</td>\n",
              "      <td>1</td>\n",
              "      <td>16.3699</td>\n",
              "      <td>1.5934</td>\n",
              "      <td>16.7395</td>\n",
              "      <td>7.3330</td>\n",
              "      <td>12.1450</td>\n",
              "      <td>5.9004</td>\n",
              "      <td>4.8222</td>\n",
              "      <td>20.9729</td>\n",
              "      <td>...</td>\n",
              "      <td>7.4002</td>\n",
              "      <td>7.4031</td>\n",
              "      <td>4.3989</td>\n",
              "      <td>4.0978</td>\n",
              "      <td>17.3638</td>\n",
              "      <td>-1.3022</td>\n",
              "      <td>9.6846</td>\n",
              "      <td>9.0419</td>\n",
              "      <td>15.6064</td>\n",
              "      <td>-10.8529</td>\n",
              "    </tr>\n",
              "    <tr>\n",
              "      <th>14</th>\n",
              "      <td>train_14</td>\n",
              "      <td>0</td>\n",
              "      <td>13.8080</td>\n",
              "      <td>5.0514</td>\n",
              "      <td>17.2611</td>\n",
              "      <td>8.5120</td>\n",
              "      <td>12.8517</td>\n",
              "      <td>-9.1622</td>\n",
              "      <td>5.7327</td>\n",
              "      <td>21.0517</td>\n",
              "      <td>...</td>\n",
              "      <td>1.0740</td>\n",
              "      <td>8.3220</td>\n",
              "      <td>3.2619</td>\n",
              "      <td>1.6738</td>\n",
              "      <td>17.4797</td>\n",
              "      <td>-0.0257</td>\n",
              "      <td>-3.5323</td>\n",
              "      <td>9.3439</td>\n",
              "      <td>24.4479</td>\n",
              "      <td>-5.1110</td>\n",
              "    </tr>\n",
              "    <tr>\n",
              "      <th>15</th>\n",
              "      <td>train_15</td>\n",
              "      <td>0</td>\n",
              "      <td>3.9416</td>\n",
              "      <td>2.6562</td>\n",
              "      <td>13.3633</td>\n",
              "      <td>6.8895</td>\n",
              "      <td>12.2806</td>\n",
              "      <td>-16.1620</td>\n",
              "      <td>5.6979</td>\n",
              "      <td>14.4573</td>\n",
              "      <td>...</td>\n",
              "      <td>-3.4195</td>\n",
              "      <td>0.8829</td>\n",
              "      <td>-1.9859</td>\n",
              "      <td>3.9905</td>\n",
              "      <td>22.4647</td>\n",
              "      <td>0.5129</td>\n",
              "      <td>6.5273</td>\n",
              "      <td>8.2899</td>\n",
              "      <td>12.9116</td>\n",
              "      <td>-4.9182</td>\n",
              "    </tr>\n",
              "    <tr>\n",
              "      <th>16</th>\n",
              "      <td>train_16</td>\n",
              "      <td>0</td>\n",
              "      <td>5.0615</td>\n",
              "      <td>0.2689</td>\n",
              "      <td>15.1325</td>\n",
              "      <td>3.6587</td>\n",
              "      <td>13.5276</td>\n",
              "      <td>-6.5477</td>\n",
              "      <td>5.2757</td>\n",
              "      <td>9.8710</td>\n",
              "      <td>...</td>\n",
              "      <td>0.2717</td>\n",
              "      <td>7.2854</td>\n",
              "      <td>0.5670</td>\n",
              "      <td>8.1822</td>\n",
              "      <td>19.5616</td>\n",
              "      <td>0.4365</td>\n",
              "      <td>-3.4975</td>\n",
              "      <td>8.6367</td>\n",
              "      <td>20.2548</td>\n",
              "      <td>11.1524</td>\n",
              "    </tr>\n",
              "    <tr>\n",
              "      <th>17</th>\n",
              "      <td>train_17</td>\n",
              "      <td>0</td>\n",
              "      <td>8.4199</td>\n",
              "      <td>-1.8128</td>\n",
              "      <td>8.1202</td>\n",
              "      <td>5.3955</td>\n",
              "      <td>9.7184</td>\n",
              "      <td>-17.8390</td>\n",
              "      <td>4.0959</td>\n",
              "      <td>15.2860</td>\n",
              "      <td>...</td>\n",
              "      <td>7.4363</td>\n",
              "      <td>11.3072</td>\n",
              "      <td>3.7903</td>\n",
              "      <td>0.0290</td>\n",
              "      <td>16.2954</td>\n",
              "      <td>0.1470</td>\n",
              "      <td>8.9603</td>\n",
              "      <td>9.4560</td>\n",
              "      <td>19.4505</td>\n",
              "      <td>-5.2407</td>\n",
              "    </tr>\n",
              "    <tr>\n",
              "      <th>18</th>\n",
              "      <td>train_18</td>\n",
              "      <td>0</td>\n",
              "      <td>4.8750</td>\n",
              "      <td>1.2646</td>\n",
              "      <td>11.9190</td>\n",
              "      <td>8.4650</td>\n",
              "      <td>10.7203</td>\n",
              "      <td>-0.6707</td>\n",
              "      <td>5.6103</td>\n",
              "      <td>16.4661</td>\n",
              "      <td>...</td>\n",
              "      <td>9.1843</td>\n",
              "      <td>2.6812</td>\n",
              "      <td>1.8587</td>\n",
              "      <td>4.6929</td>\n",
              "      <td>16.0916</td>\n",
              "      <td>-1.5336</td>\n",
              "      <td>-4.0958</td>\n",
              "      <td>8.5873</td>\n",
              "      <td>17.1516</td>\n",
              "      <td>-22.1940</td>\n",
              "    </tr>\n",
              "    <tr>\n",
              "      <th>19</th>\n",
              "      <td>train_19</td>\n",
              "      <td>0</td>\n",
              "      <td>4.4090</td>\n",
              "      <td>-0.7863</td>\n",
              "      <td>15.1828</td>\n",
              "      <td>8.0631</td>\n",
              "      <td>11.2831</td>\n",
              "      <td>-0.7356</td>\n",
              "      <td>6.3801</td>\n",
              "      <td>16.0218</td>\n",
              "      <td>...</td>\n",
              "      <td>5.9745</td>\n",
              "      <td>6.3267</td>\n",
              "      <td>2.5156</td>\n",
              "      <td>8.9878</td>\n",
              "      <td>16.0550</td>\n",
              "      <td>-2.1962</td>\n",
              "      <td>8.3985</td>\n",
              "      <td>9.1711</td>\n",
              "      <td>14.7352</td>\n",
              "      <td>3.9133</td>\n",
              "    </tr>\n",
              "  </tbody>\n",
              "</table>\n",
              "<p>20 rows × 202 columns</p>\n",
              "</div>"
            ],
            "text/plain": [
              "     ID_code  target    var_0   var_1    var_2   var_3    var_4    var_5  \\\n",
              "0    train_0       0   8.9255 -6.7863  11.9081  5.0930  11.4607  -9.2834   \n",
              "1    train_1       0  11.5006 -4.1473  13.8588  5.3890  12.3622   7.0433   \n",
              "2    train_2       0   8.6093 -2.7457  12.0805  7.8928  10.5825  -9.0837   \n",
              "3    train_3       0  11.0604 -2.1518   8.9522  7.1957  12.5846  -1.8361   \n",
              "4    train_4       0   9.8369 -1.4834  12.8746  6.6375  12.2772   2.4486   \n",
              "5    train_5       0  11.4763 -2.3182  12.6080  8.6264  10.9621   3.5609   \n",
              "6    train_6       0  11.8091 -0.0832   9.3494  4.2916  11.1355  -8.0198   \n",
              "7    train_7       0  13.5580 -7.9881  13.8776  7.5985   8.6543   0.8310   \n",
              "8    train_8       0  16.1071  2.4426  13.9307  5.6327   8.8014   6.1630   \n",
              "9    train_9       0  12.5088  1.9743   8.8960  5.4508  13.6043 -16.2859   \n",
              "10  train_10       0   5.0702 -0.5447   9.5900  4.2987  12.3910 -18.8687   \n",
              "11  train_11       0  12.7188 -7.9750  10.3757  9.0101  12.8570 -12.0852   \n",
              "12  train_12       0   8.7671 -4.6154   9.7242  7.4242   9.0254   1.4247   \n",
              "13  train_13       1  16.3699  1.5934  16.7395  7.3330  12.1450   5.9004   \n",
              "14  train_14       0  13.8080  5.0514  17.2611  8.5120  12.8517  -9.1622   \n",
              "15  train_15       0   3.9416  2.6562  13.3633  6.8895  12.2806 -16.1620   \n",
              "16  train_16       0   5.0615  0.2689  15.1325  3.6587  13.5276  -6.5477   \n",
              "17  train_17       0   8.4199 -1.8128   8.1202  5.3955   9.7184 -17.8390   \n",
              "18  train_18       0   4.8750  1.2646  11.9190  8.4650  10.7203  -0.6707   \n",
              "19  train_19       0   4.4090 -0.7863  15.1828  8.0631  11.2831  -0.7356   \n",
              "\n",
              "     var_6    var_7   ...     var_190  var_191  var_192  var_193  var_194  \\\n",
              "0   5.1187  18.6266   ...      4.4354   3.9642   3.1364   1.6910  18.5227   \n",
              "1   5.6208  16.5338   ...      7.6421   7.7214   2.5837  10.9516  15.4305   \n",
              "2   6.9427  14.6155   ...      2.9057   9.7905   1.6704   1.6858  21.6042   \n",
              "3   5.8428  14.9250   ...      4.4666   4.7433   0.7178   1.4214  23.0347   \n",
              "4   5.9405  19.2514   ...     -1.4905   9.5214  -0.1508   9.1942  13.2876   \n",
              "5   4.5322  15.2255   ...     -6.3068   6.6025   5.2912   0.4403  14.9452   \n",
              "6   6.1961  12.0771   ...      8.7830   6.4521   3.5325   0.1777  18.3314   \n",
              "7   5.6890  22.3262   ...     13.1700   6.5491   3.9906   5.8061  23.1407   \n",
              "8   4.4514  10.1854   ...      1.4298  14.7510   1.6395   1.4181  14.8370   \n",
              "9   6.0637  16.8410   ...      0.5543   6.3160   1.0371   3.6885  14.8344   \n",
              "10  6.0382  14.3797   ...      7.2780   8.0819   0.2139  -0.0761  14.9585   \n",
              "11  5.6464  11.8370   ...     -0.8901   2.6559  -0.0503   5.5946  13.6152   \n",
              "12  6.2815  12.3143   ...      0.3782   7.4382   0.0854   1.3444  17.2439   \n",
              "13  4.8222  20.9729   ...      7.4002   7.4031   4.3989   4.0978  17.3638   \n",
              "14  5.7327  21.0517   ...      1.0740   8.3220   3.2619   1.6738  17.4797   \n",
              "15  5.6979  14.4573   ...     -3.4195   0.8829  -1.9859   3.9905  22.4647   \n",
              "16  5.2757   9.8710   ...      0.2717   7.2854   0.5670   8.1822  19.5616   \n",
              "17  4.0959  15.2860   ...      7.4363  11.3072   3.7903   0.0290  16.2954   \n",
              "18  5.6103  16.4661   ...      9.1843   2.6812   1.8587   4.6929  16.0916   \n",
              "19  6.3801  16.0218   ...      5.9745   6.3267   2.5156   8.9878  16.0550   \n",
              "\n",
              "    var_195  var_196  var_197  var_198  var_199  \n",
              "0   -2.3978   7.8784   8.5635  12.7803  -1.0914  \n",
              "1    2.0339   8.1267   8.7889  18.3560   1.9518  \n",
              "2    3.1417  -6.5213   8.2675  14.7222   0.3965  \n",
              "3   -1.2706  -2.9275  10.2922  17.9697  -8.9996  \n",
              "4   -1.5121   3.9267   9.5031  17.9974  -8.8104  \n",
              "5    1.0314  -3.6241   9.7670  12.5809  -4.7602  \n",
              "6    0.5845   9.1104   9.1143  10.8869  -3.2097  \n",
              "7   -0.3776   4.2178   9.4237   8.6624   3.4806  \n",
              "8   -1.9940  -1.0733   8.1975  19.5114   4.8453  \n",
              "9    0.4467  14.1287   7.9133  16.2375  14.2514  \n",
              "10  -1.2160   6.6576   9.2553  14.2914  -7.6652  \n",
              "11   2.4058  -1.7183   9.6745  16.7498  -3.9728  \n",
              "12  -0.0798   5.7389   8.4897  17.0938   4.6106  \n",
              "13  -1.3022   9.6846   9.0419  15.6064 -10.8529  \n",
              "14  -0.0257  -3.5323   9.3439  24.4479  -5.1110  \n",
              "15   0.5129   6.5273   8.2899  12.9116  -4.9182  \n",
              "16   0.4365  -3.4975   8.6367  20.2548  11.1524  \n",
              "17   0.1470   8.9603   9.4560  19.4505  -5.2407  \n",
              "18  -1.5336  -4.0958   8.5873  17.1516 -22.1940  \n",
              "19  -2.1962   8.3985   9.1711  14.7352   3.9133  \n",
              "\n",
              "[20 rows x 202 columns]"
            ]
          },
          "metadata": {
            "tags": []
          },
          "execution_count": 20
        }
      ]
    },
    {
      "metadata": {
        "id": "eBk1jHWssfyX",
        "colab_type": "text"
      },
      "cell_type": "markdown",
      "source": [
        ""
      ]
    },
    {
      "metadata": {
        "id": "jGXjgiCAsfyY",
        "colab_type": "code",
        "colab": {}
      },
      "cell_type": "code",
      "source": [
        "def check(df,target):\n",
        "    check=[]\n",
        "    print('size of the data',df.shape[0])\n",
        "    for i in [0,1]:\n",
        "        print('for target',format(i))\n",
        "        print(df[target].value_counts()[i]/df.shape[0]*100,'%')\n",
        "\n",
        "\n"
      ],
      "execution_count": 0,
      "outputs": []
    },
    {
      "metadata": {
        "id": "hc9cqFbUsfyi",
        "colab_type": "text"
      },
      "cell_type": "markdown",
      "source": [
        ""
      ]
    },
    {
      "metadata": {
        "id": "xFPLCrRmsfyl",
        "colab_type": "code",
        "colab": {},
        "outputId": "6f8d9f16-b4cd-47c6-ad1e-965ca59c4d0c"
      },
      "cell_type": "code",
      "source": [
        "check(train,'target')\n"
      ],
      "execution_count": 0,
      "outputs": [
        {
          "output_type": "stream",
          "text": [
            "size of the data 200000\n",
            "for target 0\n",
            "89.95100000000001 %\n",
            "for target 1\n",
            "10.049 %\n"
          ],
          "name": "stdout"
        }
      ]
    },
    {
      "metadata": {
        "id": "HCJCxuPgsfyt",
        "colab_type": "text"
      },
      "cell_type": "markdown",
      "source": [
        " # RandomForestClassifier"
      ]
    },
    {
      "metadata": {
        "id": "nh6Klczpsfyv",
        "colab_type": "code",
        "colab": {}
      },
      "cell_type": "code",
      "source": [
        "random=RandomForestClassifier(train)\n"
      ],
      "execution_count": 0,
      "outputs": []
    },
    {
      "metadata": {
        "id": "W_vReGFEsfy0",
        "colab_type": "text"
      },
      "cell_type": "markdown",
      "source": [
        ""
      ]
    },
    {
      "metadata": {
        "id": "r-mNCLtcsfy3",
        "colab_type": "code",
        "colab": {}
      },
      "cell_type": "code",
      "source": [
        "decision=DecisionTreeClassifier(train)\n"
      ],
      "execution_count": 0,
      "outputs": []
    },
    {
      "metadata": {
        "id": "enYT2AKrsfzB",
        "colab_type": "text"
      },
      "cell_type": "markdown",
      "source": [
        ""
      ]
    },
    {
      "metadata": {
        "id": "d3FbNClRsfzB",
        "colab_type": "text"
      },
      "cell_type": "markdown",
      "source": [
        " # Decision Tree Classifier"
      ]
    },
    {
      "metadata": {
        "id": "NWxCqZWhsfzC",
        "colab_type": "code",
        "colab": {}
      },
      "cell_type": "code",
      "source": [
        "decision=DecisionTreeClassifier(train)"
      ],
      "execution_count": 0,
      "outputs": []
    },
    {
      "metadata": {
        "id": "H8UaJgYwsfzH",
        "colab_type": "text"
      },
      "cell_type": "markdown",
      "source": [
        " # Santander Data Science Frameworks"
      ]
    },
    {
      "metadata": {
        "id": "FOj7NiRGsfzI",
        "colab_type": "code",
        "colab": {}
      },
      "cell_type": "code",
      "source": [
        "from sklearn.model_selection import train_test_split\n",
        "from sklearn.model_selection import StratifiedKFold\n",
        "from sklearn.ensemble import RandomForestClassifier\n",
        "from sklearn.tree import DecisionTreeClassifier\n",
        "from IPython.display import display\n",
        "import matplotlib.patches as patch\n",
        "import matplotlib.pyplot as plt\n",
        "from sklearn.svm import NuSVR\n",
        "from scipy.stats import norm\n",
        "from sklearn import svm\n",
        "import lightgbm as lgb\n",
        "import xgboost as xgb\n",
        "import seaborn as sns\n",
        "import pandas as pd\n",
        "import numpy as np\n",
        "import warnings\n",
        "import time\n",
        "import glob\n",
        "import sys\n",
        "import os\n",
        "import gc\n"
      ],
      "execution_count": 0,
      "outputs": []
    },
    {
      "metadata": {
        "id": "OcszdvY_sfzM",
        "colab_type": "text"
      },
      "cell_type": "markdown",
      "source": [
        ""
      ]
    },
    {
      "metadata": {
        "id": "mpDIEcrEsfzN",
        "colab_type": "code",
        "colab": {}
      },
      "cell_type": "code",
      "source": [
        "train=pd.read_csv('/home/rahul/Desktop/Link to rahul_environment/Projects/Machine_Learning Projects/Santander/train.csv')\n",
        "\n"
      ],
      "execution_count": 0,
      "outputs": []
    },
    {
      "metadata": {
        "id": "XIGohI8XsfzQ",
        "colab_type": "code",
        "colab": {},
        "outputId": "92cf283f-2117-4969-e29e-2cad8e1ee89b"
      },
      "cell_type": "code",
      "source": [
        "\n",
        "#%% [markdown]\n",
        "train.head(10)\n"
      ],
      "execution_count": 0,
      "outputs": [
        {
          "output_type": "execute_result",
          "data": {
            "text/html": [
              "<div>\n",
              "<style scoped>\n",
              "    .dataframe tbody tr th:only-of-type {\n",
              "        vertical-align: middle;\n",
              "    }\n",
              "\n",
              "    .dataframe tbody tr th {\n",
              "        vertical-align: top;\n",
              "    }\n",
              "\n",
              "    .dataframe thead th {\n",
              "        text-align: right;\n",
              "    }\n",
              "</style>\n",
              "<table border=\"1\" class=\"dataframe\">\n",
              "  <thead>\n",
              "    <tr style=\"text-align: right;\">\n",
              "      <th></th>\n",
              "      <th>ID_code</th>\n",
              "      <th>target</th>\n",
              "      <th>var_0</th>\n",
              "      <th>var_1</th>\n",
              "      <th>var_2</th>\n",
              "      <th>var_3</th>\n",
              "      <th>var_4</th>\n",
              "      <th>var_5</th>\n",
              "      <th>var_6</th>\n",
              "      <th>var_7</th>\n",
              "      <th>...</th>\n",
              "      <th>var_190</th>\n",
              "      <th>var_191</th>\n",
              "      <th>var_192</th>\n",
              "      <th>var_193</th>\n",
              "      <th>var_194</th>\n",
              "      <th>var_195</th>\n",
              "      <th>var_196</th>\n",
              "      <th>var_197</th>\n",
              "      <th>var_198</th>\n",
              "      <th>var_199</th>\n",
              "    </tr>\n",
              "  </thead>\n",
              "  <tbody>\n",
              "    <tr>\n",
              "      <th>0</th>\n",
              "      <td>train_0</td>\n",
              "      <td>0</td>\n",
              "      <td>8.9255</td>\n",
              "      <td>-6.7863</td>\n",
              "      <td>11.9081</td>\n",
              "      <td>5.0930</td>\n",
              "      <td>11.4607</td>\n",
              "      <td>-9.2834</td>\n",
              "      <td>5.1187</td>\n",
              "      <td>18.6266</td>\n",
              "      <td>...</td>\n",
              "      <td>4.4354</td>\n",
              "      <td>3.9642</td>\n",
              "      <td>3.1364</td>\n",
              "      <td>1.6910</td>\n",
              "      <td>18.5227</td>\n",
              "      <td>-2.3978</td>\n",
              "      <td>7.8784</td>\n",
              "      <td>8.5635</td>\n",
              "      <td>12.7803</td>\n",
              "      <td>-1.0914</td>\n",
              "    </tr>\n",
              "    <tr>\n",
              "      <th>1</th>\n",
              "      <td>train_1</td>\n",
              "      <td>0</td>\n",
              "      <td>11.5006</td>\n",
              "      <td>-4.1473</td>\n",
              "      <td>13.8588</td>\n",
              "      <td>5.3890</td>\n",
              "      <td>12.3622</td>\n",
              "      <td>7.0433</td>\n",
              "      <td>5.6208</td>\n",
              "      <td>16.5338</td>\n",
              "      <td>...</td>\n",
              "      <td>7.6421</td>\n",
              "      <td>7.7214</td>\n",
              "      <td>2.5837</td>\n",
              "      <td>10.9516</td>\n",
              "      <td>15.4305</td>\n",
              "      <td>2.0339</td>\n",
              "      <td>8.1267</td>\n",
              "      <td>8.7889</td>\n",
              "      <td>18.3560</td>\n",
              "      <td>1.9518</td>\n",
              "    </tr>\n",
              "    <tr>\n",
              "      <th>2</th>\n",
              "      <td>train_2</td>\n",
              "      <td>0</td>\n",
              "      <td>8.6093</td>\n",
              "      <td>-2.7457</td>\n",
              "      <td>12.0805</td>\n",
              "      <td>7.8928</td>\n",
              "      <td>10.5825</td>\n",
              "      <td>-9.0837</td>\n",
              "      <td>6.9427</td>\n",
              "      <td>14.6155</td>\n",
              "      <td>...</td>\n",
              "      <td>2.9057</td>\n",
              "      <td>9.7905</td>\n",
              "      <td>1.6704</td>\n",
              "      <td>1.6858</td>\n",
              "      <td>21.6042</td>\n",
              "      <td>3.1417</td>\n",
              "      <td>-6.5213</td>\n",
              "      <td>8.2675</td>\n",
              "      <td>14.7222</td>\n",
              "      <td>0.3965</td>\n",
              "    </tr>\n",
              "    <tr>\n",
              "      <th>3</th>\n",
              "      <td>train_3</td>\n",
              "      <td>0</td>\n",
              "      <td>11.0604</td>\n",
              "      <td>-2.1518</td>\n",
              "      <td>8.9522</td>\n",
              "      <td>7.1957</td>\n",
              "      <td>12.5846</td>\n",
              "      <td>-1.8361</td>\n",
              "      <td>5.8428</td>\n",
              "      <td>14.9250</td>\n",
              "      <td>...</td>\n",
              "      <td>4.4666</td>\n",
              "      <td>4.7433</td>\n",
              "      <td>0.7178</td>\n",
              "      <td>1.4214</td>\n",
              "      <td>23.0347</td>\n",
              "      <td>-1.2706</td>\n",
              "      <td>-2.9275</td>\n",
              "      <td>10.2922</td>\n",
              "      <td>17.9697</td>\n",
              "      <td>-8.9996</td>\n",
              "    </tr>\n",
              "    <tr>\n",
              "      <th>4</th>\n",
              "      <td>train_4</td>\n",
              "      <td>0</td>\n",
              "      <td>9.8369</td>\n",
              "      <td>-1.4834</td>\n",
              "      <td>12.8746</td>\n",
              "      <td>6.6375</td>\n",
              "      <td>12.2772</td>\n",
              "      <td>2.4486</td>\n",
              "      <td>5.9405</td>\n",
              "      <td>19.2514</td>\n",
              "      <td>...</td>\n",
              "      <td>-1.4905</td>\n",
              "      <td>9.5214</td>\n",
              "      <td>-0.1508</td>\n",
              "      <td>9.1942</td>\n",
              "      <td>13.2876</td>\n",
              "      <td>-1.5121</td>\n",
              "      <td>3.9267</td>\n",
              "      <td>9.5031</td>\n",
              "      <td>17.9974</td>\n",
              "      <td>-8.8104</td>\n",
              "    </tr>\n",
              "    <tr>\n",
              "      <th>5</th>\n",
              "      <td>train_5</td>\n",
              "      <td>0</td>\n",
              "      <td>11.4763</td>\n",
              "      <td>-2.3182</td>\n",
              "      <td>12.6080</td>\n",
              "      <td>8.6264</td>\n",
              "      <td>10.9621</td>\n",
              "      <td>3.5609</td>\n",
              "      <td>4.5322</td>\n",
              "      <td>15.2255</td>\n",
              "      <td>...</td>\n",
              "      <td>-6.3068</td>\n",
              "      <td>6.6025</td>\n",
              "      <td>5.2912</td>\n",
              "      <td>0.4403</td>\n",
              "      <td>14.9452</td>\n",
              "      <td>1.0314</td>\n",
              "      <td>-3.6241</td>\n",
              "      <td>9.7670</td>\n",
              "      <td>12.5809</td>\n",
              "      <td>-4.7602</td>\n",
              "    </tr>\n",
              "    <tr>\n",
              "      <th>6</th>\n",
              "      <td>train_6</td>\n",
              "      <td>0</td>\n",
              "      <td>11.8091</td>\n",
              "      <td>-0.0832</td>\n",
              "      <td>9.3494</td>\n",
              "      <td>4.2916</td>\n",
              "      <td>11.1355</td>\n",
              "      <td>-8.0198</td>\n",
              "      <td>6.1961</td>\n",
              "      <td>12.0771</td>\n",
              "      <td>...</td>\n",
              "      <td>8.7830</td>\n",
              "      <td>6.4521</td>\n",
              "      <td>3.5325</td>\n",
              "      <td>0.1777</td>\n",
              "      <td>18.3314</td>\n",
              "      <td>0.5845</td>\n",
              "      <td>9.1104</td>\n",
              "      <td>9.1143</td>\n",
              "      <td>10.8869</td>\n",
              "      <td>-3.2097</td>\n",
              "    </tr>\n",
              "    <tr>\n",
              "      <th>7</th>\n",
              "      <td>train_7</td>\n",
              "      <td>0</td>\n",
              "      <td>13.5580</td>\n",
              "      <td>-7.9881</td>\n",
              "      <td>13.8776</td>\n",
              "      <td>7.5985</td>\n",
              "      <td>8.6543</td>\n",
              "      <td>0.8310</td>\n",
              "      <td>5.6890</td>\n",
              "      <td>22.3262</td>\n",
              "      <td>...</td>\n",
              "      <td>13.1700</td>\n",
              "      <td>6.5491</td>\n",
              "      <td>3.9906</td>\n",
              "      <td>5.8061</td>\n",
              "      <td>23.1407</td>\n",
              "      <td>-0.3776</td>\n",
              "      <td>4.2178</td>\n",
              "      <td>9.4237</td>\n",
              "      <td>8.6624</td>\n",
              "      <td>3.4806</td>\n",
              "    </tr>\n",
              "    <tr>\n",
              "      <th>8</th>\n",
              "      <td>train_8</td>\n",
              "      <td>0</td>\n",
              "      <td>16.1071</td>\n",
              "      <td>2.4426</td>\n",
              "      <td>13.9307</td>\n",
              "      <td>5.6327</td>\n",
              "      <td>8.8014</td>\n",
              "      <td>6.1630</td>\n",
              "      <td>4.4514</td>\n",
              "      <td>10.1854</td>\n",
              "      <td>...</td>\n",
              "      <td>1.4298</td>\n",
              "      <td>14.7510</td>\n",
              "      <td>1.6395</td>\n",
              "      <td>1.4181</td>\n",
              "      <td>14.8370</td>\n",
              "      <td>-1.9940</td>\n",
              "      <td>-1.0733</td>\n",
              "      <td>8.1975</td>\n",
              "      <td>19.5114</td>\n",
              "      <td>4.8453</td>\n",
              "    </tr>\n",
              "    <tr>\n",
              "      <th>9</th>\n",
              "      <td>train_9</td>\n",
              "      <td>0</td>\n",
              "      <td>12.5088</td>\n",
              "      <td>1.9743</td>\n",
              "      <td>8.8960</td>\n",
              "      <td>5.4508</td>\n",
              "      <td>13.6043</td>\n",
              "      <td>-16.2859</td>\n",
              "      <td>6.0637</td>\n",
              "      <td>16.8410</td>\n",
              "      <td>...</td>\n",
              "      <td>0.5543</td>\n",
              "      <td>6.3160</td>\n",
              "      <td>1.0371</td>\n",
              "      <td>3.6885</td>\n",
              "      <td>14.8344</td>\n",
              "      <td>0.4467</td>\n",
              "      <td>14.1287</td>\n",
              "      <td>7.9133</td>\n",
              "      <td>16.2375</td>\n",
              "      <td>14.2514</td>\n",
              "    </tr>\n",
              "  </tbody>\n",
              "</table>\n",
              "<p>10 rows × 202 columns</p>\n",
              "</div>"
            ],
            "text/plain": [
              "   ID_code  target    var_0   var_1    var_2   var_3    var_4    var_5  \\\n",
              "0  train_0       0   8.9255 -6.7863  11.9081  5.0930  11.4607  -9.2834   \n",
              "1  train_1       0  11.5006 -4.1473  13.8588  5.3890  12.3622   7.0433   \n",
              "2  train_2       0   8.6093 -2.7457  12.0805  7.8928  10.5825  -9.0837   \n",
              "3  train_3       0  11.0604 -2.1518   8.9522  7.1957  12.5846  -1.8361   \n",
              "4  train_4       0   9.8369 -1.4834  12.8746  6.6375  12.2772   2.4486   \n",
              "5  train_5       0  11.4763 -2.3182  12.6080  8.6264  10.9621   3.5609   \n",
              "6  train_6       0  11.8091 -0.0832   9.3494  4.2916  11.1355  -8.0198   \n",
              "7  train_7       0  13.5580 -7.9881  13.8776  7.5985   8.6543   0.8310   \n",
              "8  train_8       0  16.1071  2.4426  13.9307  5.6327   8.8014   6.1630   \n",
              "9  train_9       0  12.5088  1.9743   8.8960  5.4508  13.6043 -16.2859   \n",
              "\n",
              "    var_6    var_7   ...     var_190  var_191  var_192  var_193  var_194  \\\n",
              "0  5.1187  18.6266   ...      4.4354   3.9642   3.1364   1.6910  18.5227   \n",
              "1  5.6208  16.5338   ...      7.6421   7.7214   2.5837  10.9516  15.4305   \n",
              "2  6.9427  14.6155   ...      2.9057   9.7905   1.6704   1.6858  21.6042   \n",
              "3  5.8428  14.9250   ...      4.4666   4.7433   0.7178   1.4214  23.0347   \n",
              "4  5.9405  19.2514   ...     -1.4905   9.5214  -0.1508   9.1942  13.2876   \n",
              "5  4.5322  15.2255   ...     -6.3068   6.6025   5.2912   0.4403  14.9452   \n",
              "6  6.1961  12.0771   ...      8.7830   6.4521   3.5325   0.1777  18.3314   \n",
              "7  5.6890  22.3262   ...     13.1700   6.5491   3.9906   5.8061  23.1407   \n",
              "8  4.4514  10.1854   ...      1.4298  14.7510   1.6395   1.4181  14.8370   \n",
              "9  6.0637  16.8410   ...      0.5543   6.3160   1.0371   3.6885  14.8344   \n",
              "\n",
              "   var_195  var_196  var_197  var_198  var_199  \n",
              "0  -2.3978   7.8784   8.5635  12.7803  -1.0914  \n",
              "1   2.0339   8.1267   8.7889  18.3560   1.9518  \n",
              "2   3.1417  -6.5213   8.2675  14.7222   0.3965  \n",
              "3  -1.2706  -2.9275  10.2922  17.9697  -8.9996  \n",
              "4  -1.5121   3.9267   9.5031  17.9974  -8.8104  \n",
              "5   1.0314  -3.6241   9.7670  12.5809  -4.7602  \n",
              "6   0.5845   9.1104   9.1143  10.8869  -3.2097  \n",
              "7  -0.3776   4.2178   9.4237   8.6624   3.4806  \n",
              "8  -1.9940  -1.0733   8.1975  19.5114   4.8453  \n",
              "9   0.4467  14.1287   7.9133  16.2375  14.2514  \n",
              "\n",
              "[10 rows x 202 columns]"
            ]
          },
          "metadata": {
            "tags": []
          },
          "execution_count": 28
        }
      ]
    },
    {
      "metadata": {
        "id": "Xv2T31rvsfzV",
        "colab_type": "code",
        "colab": {}
      },
      "cell_type": "code",
      "source": [
        "\n",
        "#%% [markdown]\n"
      ],
      "execution_count": 0,
      "outputs": []
    },
    {
      "metadata": {
        "id": "ZsbJreEOsfzZ",
        "colab_type": "code",
        "colab": {}
      },
      "cell_type": "code",
      "source": [
        "\n",
        "#%% [markdown]\n"
      ],
      "execution_count": 0,
      "outputs": []
    },
    {
      "metadata": {
        "id": "qgmZtRoYsfzn",
        "colab_type": "code",
        "colab": {}
      },
      "cell_type": "code",
      "source": [
        "\n",
        "#%% [markdown]\n"
      ],
      "execution_count": 0,
      "outputs": []
    },
    {
      "metadata": {
        "id": "S8uzZj1Dsfzt",
        "colab_type": "code",
        "colab": {}
      },
      "cell_type": "code",
      "source": [
        "\n",
        "#%% [markdown]\n"
      ],
      "execution_count": 0,
      "outputs": []
    },
    {
      "metadata": {
        "id": "KHAOK-8Xsfzx",
        "colab_type": "code",
        "colab": {},
        "outputId": "a61097ed-99b0-43a1-cca8-d23c6971c68f"
      },
      "cell_type": "code",
      "source": [
        "\n",
        "#%% [markdown]\n",
        "train[train.columns[2:]].mean().plot('hist')\n",
        "plt.savefig('meanfrequency')\n",
        "plt.title('Mean frequency')\n"
      ],
      "execution_count": 0,
      "outputs": [
        {
          "output_type": "execute_result",
          "data": {
            "text/plain": [
              "Text(0.5,1,'Mean frequency')"
            ]
          },
          "metadata": {
            "tags": []
          },
          "execution_count": 33
        },
        {
          "output_type": "display_data",
          "data": {
            "image/png": "[encoded data removed]",
            "text/plain": [
              "<Figure size 432x288 with 1 Axes>"
            ]
          },
          "metadata": {
            "tags": [],
            "needs_background": "dark"
          }
        }
      ]
    },
    {
      "metadata": {
        "id": "iNLGb68Ssfz2",
        "colab_type": "code",
        "colab": {}
      },
      "cell_type": "code",
      "source": [
        "\n",
        "#%% [markdown]\n"
      ],
      "execution_count": 0,
      "outputs": []
    },
    {
      "metadata": {
        "id": "Tz2yOyflsfz5",
        "colab_type": "code",
        "colab": {}
      },
      "cell_type": "code",
      "source": [
        "\n",
        "#%% [markdown]\n"
      ],
      "execution_count": 0,
      "outputs": []
    },
    {
      "metadata": {
        "id": "kqFi7VZasfz7",
        "colab_type": "code",
        "colab": {},
        "outputId": "abebe0bc-dfe8-43e3-d4e1-d43fecb19d3a"
      },
      "cell_type": "code",
      "source": [
        "\n",
        "#%% [markdown]\n",
        "train[\"var_0\"].hist()\n",
        "plt.savefig('var_0fig')\n",
        "plt.show()\n",
        "train[\"var_81\"].hist()\n",
        "plt.savefig('var_81fig')\n"
      ],
      "execution_count": 0,
      "outputs": [
        {
          "output_type": "display_data",
          "data": {
            "image/png": "[encoded data removed]",
            "text/plain": [
              "<Figure size 432x288 with 1 Axes>"
            ]
          },
          "metadata": {
            "tags": [],
            "needs_background": "dark"
          }
        },
        {
          "output_type": "display_data",
          "data": {
            "image/png": "[encoded data removed]",
            "text/plain": [
              "<Figure size 432x288 with 1 Axes>"
            ]
          },
          "metadata": {
            "tags": [],
            "needs_background": "dark"
          }
        }
      ]
    },
    {
      "metadata": {
        "id": "bGCO8YDOsfz_",
        "colab_type": "code",
        "colab": {},
        "outputId": "f6936677-3139-4db4-8a87-e61552517d8c"
      },
      "cell_type": "code",
      "source": [
        "\n",
        "#%% [markdown]\n",
        "sns.distplot(train['target'])\n"
      ],
      "execution_count": 0,
      "outputs": [
        {
          "output_type": "execute_result",
          "data": {
            "text/plain": [
              "<matplotlib.axes._subplots.AxesSubplot at 0x7f772095c128>"
            ]
          },
          "metadata": {
            "tags": []
          },
          "execution_count": 37
        },
        {
          "output_type": "display_data",
          "data": {
            "image/png": "[encoded data removed]",
            "text/plain": [
              "<Figure size 432x288 with 1 Axes>"
            ]
          },
          "metadata": {
            "tags": [],
            "needs_background": "dark"
          }
        }
      ]
    },
    {
      "metadata": {
        "id": "zldC6ettsf0D",
        "colab_type": "code",
        "colab": {}
      },
      "cell_type": "code",
      "source": [
        "\n",
        "#%% [markdown]\n"
      ],
      "execution_count": 0,
      "outputs": []
    },
    {
      "metadata": {
        "id": "8GnERrg9sf0F",
        "colab_type": "code",
        "colab": {}
      },
      "cell_type": "code",
      "source": [
        "\n",
        "#%% [markdown]\n",
        "# # For checking the null value is present in the columsn or not\n"
      ],
      "execution_count": 0,
      "outputs": []
    },
    {
      "metadata": {
        "id": "VuniDGt2sf0G",
        "colab_type": "code",
        "colab": {}
      },
      "cell_type": "code",
      "source": [
        "\n",
        "#%% [markdown]\n",
        "# # Binary Classification\n"
      ],
      "execution_count": 0,
      "outputs": []
    },
    {
      "metadata": {
        "id": "3gj9ynirsf0J",
        "colab_type": "code",
        "colab": {}
      },
      "cell_type": "code",
      "source": [
        "\n",
        "#%% [markdown]\n"
      ],
      "execution_count": 0,
      "outputs": []
    },
    {
      "metadata": {
        "id": "jWYhGYXvsf0M",
        "colab_type": "code",
        "colab": {}
      },
      "cell_type": "code",
      "source": [
        "\n",
        "#%% [markdown]\n",
        "def check(df,target):\n",
        "    check=[]\n",
        "    print('size of the data',df.shape[0])\n",
        "    for i in [0,1]:\n",
        "        print('for target',format(i))\n",
        "        print(df[target].value_counts()[i]/df.shape[0]*100,'%')\n",
        "\n"
      ],
      "execution_count": 0,
      "outputs": []
    },
    {
      "metadata": {
        "id": "w9tjFOIRsf0b",
        "colab_type": "code",
        "colab": {}
      },
      "cell_type": "code",
      "source": [
        "\n",
        "#%% [markdown]\n"
      ],
      "execution_count": 0,
      "outputs": []
    },
    {
      "metadata": {
        "id": "1lqE_z2esf0d",
        "colab_type": "code",
        "colab": {}
      },
      "cell_type": "code",
      "source": [
        "\n",
        "#%% [markdown]\n",
        "# # RandomForestClassifier\n",
        "\n"
      ],
      "execution_count": 0,
      "outputs": []
    },
    {
      "metadata": {
        "id": "FxjTF623sf0p",
        "colab_type": "code",
        "colab": {}
      },
      "cell_type": "code",
      "source": [
        "\n",
        "#%% [markdown]\n",
        "# # Decision Tree Classifier\n"
      ],
      "execution_count": 0,
      "outputs": []
    },
    {
      "metadata": {
        "id": "deio2RVYsf0u",
        "colab_type": "text"
      },
      "cell_type": "markdown",
      "source": [
        " # Santander Data Science Frameworks"
      ]
    },
    {
      "metadata": {
        "id": "U2YR6iRpsf0v",
        "colab_type": "code",
        "colab": {}
      },
      "cell_type": "code",
      "source": [
        "from sklearn.model_selection import train_test_split\n",
        "from sklearn.model_selection import StratifiedKFold\n",
        "from sklearn.ensemble import RandomForestClassifier\n",
        "from sklearn.tree import DecisionTreeClassifier\n",
        "from IPython.display import display\n",
        "import matplotlib.patches as patch\n",
        "import matplotlib.pyplot as plt\n",
        "from sklearn.svm import NuSVR\n",
        "from scipy.stats import norm\n",
        "from sklearn import svm\n",
        "import lightgbm as lgb\n",
        "import xgboost as xgb\n",
        "import seaborn as sns\n",
        "import pandas as pd\n",
        "import numpy as np\n",
        "import warnings\n",
        "import time\n",
        "import glob\n",
        "import sys\n",
        "import os\n",
        "import gc\n"
      ],
      "execution_count": 0,
      "outputs": []
    },
    {
      "metadata": {
        "id": "dUsPKGs0sf0y",
        "colab_type": "text"
      },
      "cell_type": "markdown",
      "source": [
        " #"
      ]
    },
    {
      "metadata": {
        "id": "ROmtf19Ysf03",
        "colab_type": "code",
        "colab": {}
      },
      "cell_type": "code",
      "source": [
        "train=pd.read_csv('/home/rahul/Desktop/Link to rahul_environment/Projects/Machine_Learning Projects/Santander/train.csv')\n",
        "\n"
      ],
      "execution_count": 0,
      "outputs": []
    },
    {
      "metadata": {
        "id": "Hyp2GjQWsf08",
        "colab_type": "text"
      },
      "cell_type": "markdown",
      "source": [
        ""
      ]
    },
    {
      "metadata": {
        "id": "9YQ6car3sf0_",
        "colab_type": "code",
        "colab": {},
        "outputId": "903a3d59-a79c-4e94-8ed0-7baf1c52c59c"
      },
      "cell_type": "code",
      "source": [
        "train.head(10)\n",
        "train.shape\n"
      ],
      "execution_count": 0,
      "outputs": [
        {
          "output_type": "execute_result",
          "data": {
            "text/plain": [
              "(200000, 202)"
            ]
          },
          "metadata": {
            "tags": []
          },
          "execution_count": 48
        }
      ]
    },
    {
      "metadata": {
        "id": "99jcVxR4sf1K",
        "colab_type": "text"
      },
      "cell_type": "markdown",
      "source": [
        ""
      ]
    },
    {
      "metadata": {
        "id": "SSMZqsmosf1N",
        "colab_type": "code",
        "colab": {},
        "outputId": "eb8f99a4-9806-4fa3-ad86-5c068072705c"
      },
      "cell_type": "code",
      "source": [
        "train.columns\n"
      ],
      "execution_count": 0,
      "outputs": [
        {
          "output_type": "execute_result",
          "data": {
            "text/plain": [
              "Index(['ID_code', 'target', 'var_0', 'var_1', 'var_2', 'var_3', 'var_4',\n",
              "       'var_5', 'var_6', 'var_7',\n",
              "       ...\n",
              "       'var_190', 'var_191', 'var_192', 'var_193', 'var_194', 'var_195',\n",
              "       'var_196', 'var_197', 'var_198', 'var_199'],\n",
              "      dtype='object', length=202)"
            ]
          },
          "metadata": {
            "tags": []
          },
          "execution_count": 49
        }
      ]
    },
    {
      "metadata": {
        "id": "yhT2qLxlsf1X",
        "colab_type": "text"
      },
      "cell_type": "markdown",
      "source": [
        ""
      ]
    },
    {
      "metadata": {
        "id": "mbw8pVuBsf1a",
        "colab_type": "code",
        "colab": {},
        "outputId": "58838564-d947-42f8-83cc-cef589e6873c"
      },
      "cell_type": "code",
      "source": [
        "print(len(train.columns))\n"
      ],
      "execution_count": 0,
      "outputs": [
        {
          "output_type": "stream",
          "text": [
            "202\n"
          ],
          "name": "stdout"
        }
      ]
    },
    {
      "metadata": {
        "id": "_TFlbvsBsf1f",
        "colab_type": "text"
      },
      "cell_type": "markdown",
      "source": [
        ""
      ]
    },
    {
      "metadata": {
        "id": "1J_fEI1Wsf1g",
        "colab_type": "code",
        "colab": {},
        "outputId": "7856dc3d-510f-44a9-e73e-30d9033ba436"
      },
      "cell_type": "code",
      "source": [
        "print(train.info())\n"
      ],
      "execution_count": 0,
      "outputs": [
        {
          "output_type": "stream",
          "text": [
            "<class 'pandas.core.frame.DataFrame'>\n",
            "RangeIndex: 200000 entries, 0 to 199999\n",
            "Columns: 202 entries, ID_code to var_199\n",
            "dtypes: float64(200), int64(1), object(1)\n",
            "memory usage: 308.2+ MB\n",
            "None\n"
          ],
          "name": "stdout"
        }
      ]
    },
    {
      "metadata": {
        "id": "JIJRShQEsf1k",
        "colab_type": "text"
      },
      "cell_type": "markdown",
      "source": [
        ""
      ]
    },
    {
      "metadata": {
        "id": "uvsQHDs8sf1m",
        "colab_type": "code",
        "colab": {},
        "outputId": "ea346836-5f18-450b-fdec-48c9d64bcf2f"
      },
      "cell_type": "code",
      "source": [
        "train.describe()\n"
      ],
      "execution_count": 0,
      "outputs": [
        {
          "output_type": "execute_result",
          "data": {
            "text/html": [
              "<div>\n",
              "<style scoped>\n",
              "    .dataframe tbody tr th:only-of-type {\n",
              "        vertical-align: middle;\n",
              "    }\n",
              "\n",
              "    .dataframe tbody tr th {\n",
              "        vertical-align: top;\n",
              "    }\n",
              "\n",
              "    .dataframe thead th {\n",
              "        text-align: right;\n",
              "    }\n",
              "</style>\n",
              "<table border=\"1\" class=\"dataframe\">\n",
              "  <thead>\n",
              "    <tr style=\"text-align: right;\">\n",
              "      <th></th>\n",
              "      <th>target</th>\n",
              "      <th>var_0</th>\n",
              "      <th>var_1</th>\n",
              "      <th>var_2</th>\n",
              "      <th>var_3</th>\n",
              "      <th>var_4</th>\n",
              "      <th>var_5</th>\n",
              "      <th>var_6</th>\n",
              "      <th>var_7</th>\n",
              "      <th>var_8</th>\n",
              "      <th>...</th>\n",
              "      <th>var_190</th>\n",
              "      <th>var_191</th>\n",
              "      <th>var_192</th>\n",
              "      <th>var_193</th>\n",
              "      <th>var_194</th>\n",
              "      <th>var_195</th>\n",
              "      <th>var_196</th>\n",
              "      <th>var_197</th>\n",
              "      <th>var_198</th>\n",
              "      <th>var_199</th>\n",
              "    </tr>\n",
              "  </thead>\n",
              "  <tbody>\n",
              "    <tr>\n",
              "      <th>count</th>\n",
              "      <td>200000.000000</td>\n",
              "      <td>200000.000000</td>\n",
              "      <td>200000.000000</td>\n",
              "      <td>200000.000000</td>\n",
              "      <td>200000.000000</td>\n",
              "      <td>200000.000000</td>\n",
              "      <td>200000.000000</td>\n",
              "      <td>200000.000000</td>\n",
              "      <td>200000.000000</td>\n",
              "      <td>200000.000000</td>\n",
              "      <td>...</td>\n",
              "      <td>200000.000000</td>\n",
              "      <td>200000.000000</td>\n",
              "      <td>200000.000000</td>\n",
              "      <td>200000.000000</td>\n",
              "      <td>200000.000000</td>\n",
              "      <td>200000.000000</td>\n",
              "      <td>200000.000000</td>\n",
              "      <td>200000.000000</td>\n",
              "      <td>200000.000000</td>\n",
              "      <td>200000.000000</td>\n",
              "    </tr>\n",
              "    <tr>\n",
              "      <th>mean</th>\n",
              "      <td>0.100490</td>\n",
              "      <td>10.679914</td>\n",
              "      <td>-1.627622</td>\n",
              "      <td>10.715192</td>\n",
              "      <td>6.796529</td>\n",
              "      <td>11.078333</td>\n",
              "      <td>-5.065317</td>\n",
              "      <td>5.408949</td>\n",
              "      <td>16.545850</td>\n",
              "      <td>0.284162</td>\n",
              "      <td>...</td>\n",
              "      <td>3.234440</td>\n",
              "      <td>7.438408</td>\n",
              "      <td>1.927839</td>\n",
              "      <td>3.331774</td>\n",
              "      <td>17.993784</td>\n",
              "      <td>-0.142088</td>\n",
              "      <td>2.303335</td>\n",
              "      <td>8.908158</td>\n",
              "      <td>15.870720</td>\n",
              "      <td>-3.326537</td>\n",
              "    </tr>\n",
              "    <tr>\n",
              "      <th>std</th>\n",
              "      <td>0.300653</td>\n",
              "      <td>3.040051</td>\n",
              "      <td>4.050044</td>\n",
              "      <td>2.640894</td>\n",
              "      <td>2.043319</td>\n",
              "      <td>1.623150</td>\n",
              "      <td>7.863267</td>\n",
              "      <td>0.866607</td>\n",
              "      <td>3.418076</td>\n",
              "      <td>3.332634</td>\n",
              "      <td>...</td>\n",
              "      <td>4.559922</td>\n",
              "      <td>3.023272</td>\n",
              "      <td>1.478423</td>\n",
              "      <td>3.992030</td>\n",
              "      <td>3.135162</td>\n",
              "      <td>1.429372</td>\n",
              "      <td>5.454369</td>\n",
              "      <td>0.921625</td>\n",
              "      <td>3.010945</td>\n",
              "      <td>10.438015</td>\n",
              "    </tr>\n",
              "    <tr>\n",
              "      <th>min</th>\n",
              "      <td>0.000000</td>\n",
              "      <td>0.408400</td>\n",
              "      <td>-15.043400</td>\n",
              "      <td>2.117100</td>\n",
              "      <td>-0.040200</td>\n",
              "      <td>5.074800</td>\n",
              "      <td>-32.562600</td>\n",
              "      <td>2.347300</td>\n",
              "      <td>5.349700</td>\n",
              "      <td>-10.505500</td>\n",
              "      <td>...</td>\n",
              "      <td>-14.093300</td>\n",
              "      <td>-2.691700</td>\n",
              "      <td>-3.814500</td>\n",
              "      <td>-11.783400</td>\n",
              "      <td>8.694400</td>\n",
              "      <td>-5.261000</td>\n",
              "      <td>-14.209600</td>\n",
              "      <td>5.960600</td>\n",
              "      <td>6.299300</td>\n",
              "      <td>-38.852800</td>\n",
              "    </tr>\n",
              "    <tr>\n",
              "      <th>25%</th>\n",
              "      <td>0.000000</td>\n",
              "      <td>8.453850</td>\n",
              "      <td>-4.740025</td>\n",
              "      <td>8.722475</td>\n",
              "      <td>5.254075</td>\n",
              "      <td>9.883175</td>\n",
              "      <td>-11.200350</td>\n",
              "      <td>4.767700</td>\n",
              "      <td>13.943800</td>\n",
              "      <td>-2.317800</td>\n",
              "      <td>...</td>\n",
              "      <td>-0.058825</td>\n",
              "      <td>5.157400</td>\n",
              "      <td>0.889775</td>\n",
              "      <td>0.584600</td>\n",
              "      <td>15.629800</td>\n",
              "      <td>-1.170700</td>\n",
              "      <td>-1.946925</td>\n",
              "      <td>8.252800</td>\n",
              "      <td>13.829700</td>\n",
              "      <td>-11.208475</td>\n",
              "    </tr>\n",
              "    <tr>\n",
              "      <th>50%</th>\n",
              "      <td>0.000000</td>\n",
              "      <td>10.524750</td>\n",
              "      <td>-1.608050</td>\n",
              "      <td>10.580000</td>\n",
              "      <td>6.825000</td>\n",
              "      <td>11.108250</td>\n",
              "      <td>-4.833150</td>\n",
              "      <td>5.385100</td>\n",
              "      <td>16.456800</td>\n",
              "      <td>0.393700</td>\n",
              "      <td>...</td>\n",
              "      <td>3.203600</td>\n",
              "      <td>7.347750</td>\n",
              "      <td>1.901300</td>\n",
              "      <td>3.396350</td>\n",
              "      <td>17.957950</td>\n",
              "      <td>-0.172700</td>\n",
              "      <td>2.408900</td>\n",
              "      <td>8.888200</td>\n",
              "      <td>15.934050</td>\n",
              "      <td>-2.819550</td>\n",
              "    </tr>\n",
              "    <tr>\n",
              "      <th>75%</th>\n",
              "      <td>0.000000</td>\n",
              "      <td>12.758200</td>\n",
              "      <td>1.358625</td>\n",
              "      <td>12.516700</td>\n",
              "      <td>8.324100</td>\n",
              "      <td>12.261125</td>\n",
              "      <td>0.924800</td>\n",
              "      <td>6.003000</td>\n",
              "      <td>19.102900</td>\n",
              "      <td>2.937900</td>\n",
              "      <td>...</td>\n",
              "      <td>6.406200</td>\n",
              "      <td>9.512525</td>\n",
              "      <td>2.949500</td>\n",
              "      <td>6.205800</td>\n",
              "      <td>20.396525</td>\n",
              "      <td>0.829600</td>\n",
              "      <td>6.556725</td>\n",
              "      <td>9.593300</td>\n",
              "      <td>18.064725</td>\n",
              "      <td>4.836800</td>\n",
              "    </tr>\n",
              "    <tr>\n",
              "      <th>max</th>\n",
              "      <td>1.000000</td>\n",
              "      <td>20.315000</td>\n",
              "      <td>10.376800</td>\n",
              "      <td>19.353000</td>\n",
              "      <td>13.188300</td>\n",
              "      <td>16.671400</td>\n",
              "      <td>17.251600</td>\n",
              "      <td>8.447700</td>\n",
              "      <td>27.691800</td>\n",
              "      <td>10.151300</td>\n",
              "      <td>...</td>\n",
              "      <td>18.440900</td>\n",
              "      <td>16.716500</td>\n",
              "      <td>8.402400</td>\n",
              "      <td>18.281800</td>\n",
              "      <td>27.928800</td>\n",
              "      <td>4.272900</td>\n",
              "      <td>18.321500</td>\n",
              "      <td>12.000400</td>\n",
              "      <td>26.079100</td>\n",
              "      <td>28.500700</td>\n",
              "    </tr>\n",
              "  </tbody>\n",
              "</table>\n",
              "<p>8 rows × 201 columns</p>\n",
              "</div>"
            ],
            "text/plain": [
              "              target          var_0          var_1          var_2  \\\n",
              "count  200000.000000  200000.000000  200000.000000  200000.000000   \n",
              "mean        0.100490      10.679914      -1.627622      10.715192   \n",
              "std         0.300653       3.040051       4.050044       2.640894   \n",
              "min         0.000000       0.408400     -15.043400       2.117100   \n",
              "25%         0.000000       8.453850      -4.740025       8.722475   \n",
              "50%         0.000000      10.524750      -1.608050      10.580000   \n",
              "75%         0.000000      12.758200       1.358625      12.516700   \n",
              "max         1.000000      20.315000      10.376800      19.353000   \n",
              "\n",
              "               var_3          var_4          var_5          var_6  \\\n",
              "count  200000.000000  200000.000000  200000.000000  200000.000000   \n",
              "mean        6.796529      11.078333      -5.065317       5.408949   \n",
              "std         2.043319       1.623150       7.863267       0.866607   \n",
              "min        -0.040200       5.074800     -32.562600       2.347300   \n",
              "25%         5.254075       9.883175     -11.200350       4.767700   \n",
              "50%         6.825000      11.108250      -4.833150       5.385100   \n",
              "75%         8.324100      12.261125       0.924800       6.003000   \n",
              "max        13.188300      16.671400      17.251600       8.447700   \n",
              "\n",
              "               var_7          var_8      ...              var_190  \\\n",
              "count  200000.000000  200000.000000      ...        200000.000000   \n",
              "mean       16.545850       0.284162      ...             3.234440   \n",
              "std         3.418076       3.332634      ...             4.559922   \n",
              "min         5.349700     -10.505500      ...           -14.093300   \n",
              "25%        13.943800      -2.317800      ...            -0.058825   \n",
              "50%        16.456800       0.393700      ...             3.203600   \n",
              "75%        19.102900       2.937900      ...             6.406200   \n",
              "max        27.691800      10.151300      ...            18.440900   \n",
              "\n",
              "             var_191        var_192        var_193        var_194  \\\n",
              "count  200000.000000  200000.000000  200000.000000  200000.000000   \n",
              "mean        7.438408       1.927839       3.331774      17.993784   \n",
              "std         3.023272       1.478423       3.992030       3.135162   \n",
              "min        -2.691700      -3.814500     -11.783400       8.694400   \n",
              "25%         5.157400       0.889775       0.584600      15.629800   \n",
              "50%         7.347750       1.901300       3.396350      17.957950   \n",
              "75%         9.512525       2.949500       6.205800      20.396525   \n",
              "max        16.716500       8.402400      18.281800      27.928800   \n",
              "\n",
              "             var_195        var_196        var_197        var_198  \\\n",
              "count  200000.000000  200000.000000  200000.000000  200000.000000   \n",
              "mean       -0.142088       2.303335       8.908158      15.870720   \n",
              "std         1.429372       5.454369       0.921625       3.010945   \n",
              "min        -5.261000     -14.209600       5.960600       6.299300   \n",
              "25%        -1.170700      -1.946925       8.252800      13.829700   \n",
              "50%        -0.172700       2.408900       8.888200      15.934050   \n",
              "75%         0.829600       6.556725       9.593300      18.064725   \n",
              "max         4.272900      18.321500      12.000400      26.079100   \n",
              "\n",
              "             var_199  \n",
              "count  200000.000000  \n",
              "mean       -3.326537  \n",
              "std        10.438015  \n",
              "min       -38.852800  \n",
              "25%       -11.208475  \n",
              "50%        -2.819550  \n",
              "75%         4.836800  \n",
              "max        28.500700  \n",
              "\n",
              "[8 rows x 201 columns]"
            ]
          },
          "metadata": {
            "tags": []
          },
          "execution_count": 52
        }
      ]
    },
    {
      "metadata": {
        "id": "oNq239pAsf10",
        "colab_type": "text"
      },
      "cell_type": "markdown",
      "source": [
        ""
      ]
    },
    {
      "metadata": {
        "id": "Jz7invF3sf12",
        "colab_type": "code",
        "colab": {},
        "outputId": "bc806ae3-7bda-465e-8e61-4e48f3d99714"
      },
      "cell_type": "code",
      "source": [
        "train[train.columns[2:]].mean().plot('hist')\n",
        "plt.savefig('meanfrequency')\n",
        "plt.title('Mean frequency')\n",
        "plt.show\n"
      ],
      "execution_count": 0,
      "outputs": [
        {
          "output_type": "execute_result",
          "data": {
            "text/plain": [
              "<function matplotlib.pyplot.show(*args, **kw)>"
            ]
          },
          "metadata": {
            "tags": []
          },
          "execution_count": 53
        },
        {
          "output_type": "display_data",
          "data": {
            "image/png": "[encoded data removed]",
            "text/plain": [
              "<Figure size 432x288 with 1 Axes>"
            ]
          },
          "metadata": {
            "tags": [],
            "needs_background": "dark"
          }
        }
      ]
    },
    {
      "metadata": {
        "id": "Evr6kcYIsf16",
        "colab_type": "text"
      },
      "cell_type": "markdown",
      "source": [
        ""
      ]
    },
    {
      "metadata": {
        "id": "9fAzOfpVsf17",
        "colab_type": "code",
        "colab": {},
        "outputId": "cd46780f-bd91-4eab-b3b9-82c644791d95"
      },
      "cell_type": "code",
      "source": [
        "train['target'].value_counts().plot.pie()\n"
      ],
      "execution_count": 0,
      "outputs": [
        {
          "output_type": "execute_result",
          "data": {
            "text/plain": [
              "<matplotlib.axes._subplots.AxesSubplot at 0x7f772008cb00>"
            ]
          },
          "metadata": {
            "tags": []
          },
          "execution_count": 54
        },
        {
          "output_type": "display_data",
          "data": {
            "image/png": "[encoded data removed]",
            "text/plain": [
              "<Figure size 432x288 with 1 Axes>"
            ]
          },
          "metadata": {
            "tags": []
          }
        }
      ]
    },
    {
      "metadata": {
        "id": "7Qa7VjgVsf1-",
        "colab_type": "text"
      },
      "cell_type": "markdown",
      "source": [
        ""
      ]
    },
    {
      "metadata": {
        "id": "t2RPt4bQsf1-",
        "colab_type": "code",
        "colab": {},
        "outputId": "6dc9d611-bea1-493c-e58a-211b7e8e6045"
      },
      "cell_type": "code",
      "source": [
        "sns.countplot(x='target',data=train)\n"
      ],
      "execution_count": 0,
      "outputs": [
        {
          "output_type": "execute_result",
          "data": {
            "text/plain": [
              "<matplotlib.axes._subplots.AxesSubplot at 0x7f771f49c668>"
            ]
          },
          "metadata": {
            "tags": []
          },
          "execution_count": 55
        },
        {
          "output_type": "display_data",
          "data": {
            "image/png": "[encoded data removed]",
            "text/plain": [
              "<Figure size 432x288 with 1 Axes>"
            ]
          },
          "metadata": {
            "tags": [],
            "needs_background": "dark"
          }
        }
      ]
    },
    {
      "metadata": {
        "id": "j7PftzE3sf2Y",
        "colab_type": "text"
      },
      "cell_type": "markdown",
      "source": [
        ""
      ]
    },
    {
      "metadata": {
        "id": "QjpT_ZbWsf2Z",
        "colab_type": "code",
        "colab": {},
        "outputId": "bfa61a5a-45b1-48bc-e233-c8f6f0cd9acb"
      },
      "cell_type": "code",
      "source": [
        "train[\"var_0\"].hist()\n",
        "plt.savefig('var_0fig')\n",
        "plt.show()\n",
        "train[\"var_81\"].hist()\n",
        "plt.savefig('var_81fig')\n",
        "plt.show()\n"
      ],
      "execution_count": 0,
      "outputs": [
        {
          "output_type": "display_data",
          "data": {
            "image/png": "[encoded data removed]",
            "text/plain": [
              "<Figure size 432x288 with 1 Axes>"
            ]
          },
          "metadata": {
            "tags": [],
            "needs_background": "dark"
          }
        },
        {
          "output_type": "display_data",
          "data": {
            "image/png": "[encoded data removed]",
            "text/plain": [
              "<Figure size 432x288 with 1 Axes>"
            ]
          },
          "metadata": {
            "tags": [],
            "needs_background": "dark"
          }
        }
      ]
    },
    {
      "metadata": {
        "id": "sdnEen5zsf2e",
        "colab_type": "text"
      },
      "cell_type": "markdown",
      "source": [
        ""
      ]
    },
    {
      "metadata": {
        "id": "91VhT2Lysf2h",
        "colab_type": "code",
        "colab": {},
        "outputId": "d9977ef4-3a3b-43fc-819c-73c7ff65012e"
      },
      "cell_type": "code",
      "source": [
        "sns.distplot(train['target'])\n",
        "\n"
      ],
      "execution_count": 0,
      "outputs": [
        {
          "output_type": "execute_result",
          "data": {
            "text/plain": [
              "<matplotlib.axes._subplots.AxesSubplot at 0x7f771f3d1f28>"
            ]
          },
          "metadata": {
            "tags": []
          },
          "execution_count": 57
        },
        {
          "output_type": "display_data",
          "data": {
            "image/png": "[encoded data removed]",
            "text/plain": [
              "<Figure size 432x288 with 1 Axes>"
            ]
          },
          "metadata": {
            "tags": [],
            "needs_background": "dark"
          }
        }
      ]
    },
    {
      "metadata": {
        "id": "84gnXnkDsf2o",
        "colab_type": "text"
      },
      "cell_type": "markdown",
      "source": [
        ""
      ]
    },
    {
      "metadata": {
        "id": "IXEYorzEsf2p",
        "colab_type": "code",
        "colab": {},
        "outputId": "88aed3b2-fc44-4146-d59d-368f08efcd0d"
      },
      "cell_type": "code",
      "source": [
        "sns.violinplot(x='target',data=train,y='var_81')\n"
      ],
      "execution_count": 0,
      "outputs": [
        {
          "output_type": "execute_result",
          "data": {
            "text/plain": [
              "<matplotlib.axes._subplots.AxesSubplot at 0x7f7720438b00>"
            ]
          },
          "metadata": {
            "tags": []
          },
          "execution_count": 58
        },
        {
          "output_type": "display_data",
          "data": {
            "image/png": "[encoded data removed]",
            "text/plain": [
              "<Figure size 432x288 with 1 Axes>"
            ]
          },
          "metadata": {
            "tags": [],
            "needs_background": "dark"
          }
        }
      ]
    },
    {
      "metadata": {
        "id": "Phj67bnGsf2x",
        "colab_type": "text"
      },
      "cell_type": "markdown",
      "source": [
        " # For checking the null value is present in the columsn or not"
      ]
    },
    {
      "metadata": {
        "id": "eldTBn4Wsf2z",
        "colab_type": "code",
        "colab": {},
        "outputId": "eae40146-6513-42e5-efd4-39e6c318ee4a"
      },
      "cell_type": "code",
      "source": [
        "train.isnull().sum()\n"
      ],
      "execution_count": 0,
      "outputs": [
        {
          "output_type": "execute_result",
          "data": {
            "text/plain": [
              "ID_code    0\n",
              "target     0\n",
              "var_0      0\n",
              "var_1      0\n",
              "var_2      0\n",
              "var_3      0\n",
              "var_4      0\n",
              "var_5      0\n",
              "var_6      0\n",
              "var_7      0\n",
              "var_8      0\n",
              "var_9      0\n",
              "var_10     0\n",
              "var_11     0\n",
              "var_12     0\n",
              "var_13     0\n",
              "var_14     0\n",
              "var_15     0\n",
              "var_16     0\n",
              "var_17     0\n",
              "var_18     0\n",
              "var_19     0\n",
              "var_20     0\n",
              "var_21     0\n",
              "var_22     0\n",
              "var_23     0\n",
              "var_24     0\n",
              "var_25     0\n",
              "var_26     0\n",
              "var_27     0\n",
              "          ..\n",
              "var_170    0\n",
              "var_171    0\n",
              "var_172    0\n",
              "var_173    0\n",
              "var_174    0\n",
              "var_175    0\n",
              "var_176    0\n",
              "var_177    0\n",
              "var_178    0\n",
              "var_179    0\n",
              "var_180    0\n",
              "var_181    0\n",
              "var_182    0\n",
              "var_183    0\n",
              "var_184    0\n",
              "var_185    0\n",
              "var_186    0\n",
              "var_187    0\n",
              "var_188    0\n",
              "var_189    0\n",
              "var_190    0\n",
              "var_191    0\n",
              "var_192    0\n",
              "var_193    0\n",
              "var_194    0\n",
              "var_195    0\n",
              "var_196    0\n",
              "var_197    0\n",
              "var_198    0\n",
              "var_199    0\n",
              "Length: 202, dtype: int64"
            ]
          },
          "metadata": {
            "tags": []
          },
          "execution_count": 59
        }
      ]
    },
    {
      "metadata": {
        "id": "T7LDGM1Fsf27",
        "colab_type": "text"
      },
      "cell_type": "markdown",
      "source": [
        " # Binary Classification"
      ]
    },
    {
      "metadata": {
        "id": "gkeksqhEsf28",
        "colab_type": "code",
        "colab": {},
        "outputId": "8204e766-bdb2-45a6-a0ac-df45710aee1f"
      },
      "cell_type": "code",
      "source": [
        "train['target'].unique()\n"
      ],
      "execution_count": 0,
      "outputs": [
        {
          "output_type": "execute_result",
          "data": {
            "text/plain": [
              "array([0, 1])"
            ]
          },
          "metadata": {
            "tags": []
          },
          "execution_count": 60
        }
      ]
    },
    {
      "metadata": {
        "id": "6j-0f_HMsf3H",
        "colab_type": "text"
      },
      "cell_type": "markdown",
      "source": [
        ""
      ]
    },
    {
      "metadata": {
        "id": "9iXgR7m2sf3I",
        "colab_type": "code",
        "colab": {},
        "outputId": "b2ad3932-9d36-4848-f9e7-438cdec1e82d"
      },
      "cell_type": "code",
      "source": [
        "train.head(20)\n"
      ],
      "execution_count": 0,
      "outputs": [
        {
          "output_type": "execute_result",
          "data": {
            "text/html": [
              "<div>\n",
              "<style scoped>\n",
              "    .dataframe tbody tr th:only-of-type {\n",
              "        vertical-align: middle;\n",
              "    }\n",
              "\n",
              "    .dataframe tbody tr th {\n",
              "        vertical-align: top;\n",
              "    }\n",
              "\n",
              "    .dataframe thead th {\n",
              "        text-align: right;\n",
              "    }\n",
              "</style>\n",
              "<table border=\"1\" class=\"dataframe\">\n",
              "  <thead>\n",
              "    <tr style=\"text-align: right;\">\n",
              "      <th></th>\n",
              "      <th>ID_code</th>\n",
              "      <th>target</th>\n",
              "      <th>var_0</th>\n",
              "      <th>var_1</th>\n",
              "      <th>var_2</th>\n",
              "      <th>var_3</th>\n",
              "      <th>var_4</th>\n",
              "      <th>var_5</th>\n",
              "      <th>var_6</th>\n",
              "      <th>var_7</th>\n",
              "      <th>...</th>\n",
              "      <th>var_190</th>\n",
              "      <th>var_191</th>\n",
              "      <th>var_192</th>\n",
              "      <th>var_193</th>\n",
              "      <th>var_194</th>\n",
              "      <th>var_195</th>\n",
              "      <th>var_196</th>\n",
              "      <th>var_197</th>\n",
              "      <th>var_198</th>\n",
              "      <th>var_199</th>\n",
              "    </tr>\n",
              "  </thead>\n",
              "  <tbody>\n",
              "    <tr>\n",
              "      <th>0</th>\n",
              "      <td>train_0</td>\n",
              "      <td>0</td>\n",
              "      <td>8.9255</td>\n",
              "      <td>-6.7863</td>\n",
              "      <td>11.9081</td>\n",
              "      <td>5.0930</td>\n",
              "      <td>11.4607</td>\n",
              "      <td>-9.2834</td>\n",
              "      <td>5.1187</td>\n",
              "      <td>18.6266</td>\n",
              "      <td>...</td>\n",
              "      <td>4.4354</td>\n",
              "      <td>3.9642</td>\n",
              "      <td>3.1364</td>\n",
              "      <td>1.6910</td>\n",
              "      <td>18.5227</td>\n",
              "      <td>-2.3978</td>\n",
              "      <td>7.8784</td>\n",
              "      <td>8.5635</td>\n",
              "      <td>12.7803</td>\n",
              "      <td>-1.0914</td>\n",
              "    </tr>\n",
              "    <tr>\n",
              "      <th>1</th>\n",
              "      <td>train_1</td>\n",
              "      <td>0</td>\n",
              "      <td>11.5006</td>\n",
              "      <td>-4.1473</td>\n",
              "      <td>13.8588</td>\n",
              "      <td>5.3890</td>\n",
              "      <td>12.3622</td>\n",
              "      <td>7.0433</td>\n",
              "      <td>5.6208</td>\n",
              "      <td>16.5338</td>\n",
              "      <td>...</td>\n",
              "      <td>7.6421</td>\n",
              "      <td>7.7214</td>\n",
              "      <td>2.5837</td>\n",
              "      <td>10.9516</td>\n",
              "      <td>15.4305</td>\n",
              "      <td>2.0339</td>\n",
              "      <td>8.1267</td>\n",
              "      <td>8.7889</td>\n",
              "      <td>18.3560</td>\n",
              "      <td>1.9518</td>\n",
              "    </tr>\n",
              "    <tr>\n",
              "      <th>2</th>\n",
              "      <td>train_2</td>\n",
              "      <td>0</td>\n",
              "      <td>8.6093</td>\n",
              "      <td>-2.7457</td>\n",
              "      <td>12.0805</td>\n",
              "      <td>7.8928</td>\n",
              "      <td>10.5825</td>\n",
              "      <td>-9.0837</td>\n",
              "      <td>6.9427</td>\n",
              "      <td>14.6155</td>\n",
              "      <td>...</td>\n",
              "      <td>2.9057</td>\n",
              "      <td>9.7905</td>\n",
              "      <td>1.6704</td>\n",
              "      <td>1.6858</td>\n",
              "      <td>21.6042</td>\n",
              "      <td>3.1417</td>\n",
              "      <td>-6.5213</td>\n",
              "      <td>8.2675</td>\n",
              "      <td>14.7222</td>\n",
              "      <td>0.3965</td>\n",
              "    </tr>\n",
              "    <tr>\n",
              "      <th>3</th>\n",
              "      <td>train_3</td>\n",
              "      <td>0</td>\n",
              "      <td>11.0604</td>\n",
              "      <td>-2.1518</td>\n",
              "      <td>8.9522</td>\n",
              "      <td>7.1957</td>\n",
              "      <td>12.5846</td>\n",
              "      <td>-1.8361</td>\n",
              "      <td>5.8428</td>\n",
              "      <td>14.9250</td>\n",
              "      <td>...</td>\n",
              "      <td>4.4666</td>\n",
              "      <td>4.7433</td>\n",
              "      <td>0.7178</td>\n",
              "      <td>1.4214</td>\n",
              "      <td>23.0347</td>\n",
              "      <td>-1.2706</td>\n",
              "      <td>-2.9275</td>\n",
              "      <td>10.2922</td>\n",
              "      <td>17.9697</td>\n",
              "      <td>-8.9996</td>\n",
              "    </tr>\n",
              "    <tr>\n",
              "      <th>4</th>\n",
              "      <td>train_4</td>\n",
              "      <td>0</td>\n",
              "      <td>9.8369</td>\n",
              "      <td>-1.4834</td>\n",
              "      <td>12.8746</td>\n",
              "      <td>6.6375</td>\n",
              "      <td>12.2772</td>\n",
              "      <td>2.4486</td>\n",
              "      <td>5.9405</td>\n",
              "      <td>19.2514</td>\n",
              "      <td>...</td>\n",
              "      <td>-1.4905</td>\n",
              "      <td>9.5214</td>\n",
              "      <td>-0.1508</td>\n",
              "      <td>9.1942</td>\n",
              "      <td>13.2876</td>\n",
              "      <td>-1.5121</td>\n",
              "      <td>3.9267</td>\n",
              "      <td>9.5031</td>\n",
              "      <td>17.9974</td>\n",
              "      <td>-8.8104</td>\n",
              "    </tr>\n",
              "    <tr>\n",
              "      <th>5</th>\n",
              "      <td>train_5</td>\n",
              "      <td>0</td>\n",
              "      <td>11.4763</td>\n",
              "      <td>-2.3182</td>\n",
              "      <td>12.6080</td>\n",
              "      <td>8.6264</td>\n",
              "      <td>10.9621</td>\n",
              "      <td>3.5609</td>\n",
              "      <td>4.5322</td>\n",
              "      <td>15.2255</td>\n",
              "      <td>...</td>\n",
              "      <td>-6.3068</td>\n",
              "      <td>6.6025</td>\n",
              "      <td>5.2912</td>\n",
              "      <td>0.4403</td>\n",
              "      <td>14.9452</td>\n",
              "      <td>1.0314</td>\n",
              "      <td>-3.6241</td>\n",
              "      <td>9.7670</td>\n",
              "      <td>12.5809</td>\n",
              "      <td>-4.7602</td>\n",
              "    </tr>\n",
              "    <tr>\n",
              "      <th>6</th>\n",
              "      <td>train_6</td>\n",
              "      <td>0</td>\n",
              "      <td>11.8091</td>\n",
              "      <td>-0.0832</td>\n",
              "      <td>9.3494</td>\n",
              "      <td>4.2916</td>\n",
              "      <td>11.1355</td>\n",
              "      <td>-8.0198</td>\n",
              "      <td>6.1961</td>\n",
              "      <td>12.0771</td>\n",
              "      <td>...</td>\n",
              "      <td>8.7830</td>\n",
              "      <td>6.4521</td>\n",
              "      <td>3.5325</td>\n",
              "      <td>0.1777</td>\n",
              "      <td>18.3314</td>\n",
              "      <td>0.5845</td>\n",
              "      <td>9.1104</td>\n",
              "      <td>9.1143</td>\n",
              "      <td>10.8869</td>\n",
              "      <td>-3.2097</td>\n",
              "    </tr>\n",
              "    <tr>\n",
              "      <th>7</th>\n",
              "      <td>train_7</td>\n",
              "      <td>0</td>\n",
              "      <td>13.5580</td>\n",
              "      <td>-7.9881</td>\n",
              "      <td>13.8776</td>\n",
              "      <td>7.5985</td>\n",
              "      <td>8.6543</td>\n",
              "      <td>0.8310</td>\n",
              "      <td>5.6890</td>\n",
              "      <td>22.3262</td>\n",
              "      <td>...</td>\n",
              "      <td>13.1700</td>\n",
              "      <td>6.5491</td>\n",
              "      <td>3.9906</td>\n",
              "      <td>5.8061</td>\n",
              "      <td>23.1407</td>\n",
              "      <td>-0.3776</td>\n",
              "      <td>4.2178</td>\n",
              "      <td>9.4237</td>\n",
              "      <td>8.6624</td>\n",
              "      <td>3.4806</td>\n",
              "    </tr>\n",
              "    <tr>\n",
              "      <th>8</th>\n",
              "      <td>train_8</td>\n",
              "      <td>0</td>\n",
              "      <td>16.1071</td>\n",
              "      <td>2.4426</td>\n",
              "      <td>13.9307</td>\n",
              "      <td>5.6327</td>\n",
              "      <td>8.8014</td>\n",
              "      <td>6.1630</td>\n",
              "      <td>4.4514</td>\n",
              "      <td>10.1854</td>\n",
              "      <td>...</td>\n",
              "      <td>1.4298</td>\n",
              "      <td>14.7510</td>\n",
              "      <td>1.6395</td>\n",
              "      <td>1.4181</td>\n",
              "      <td>14.8370</td>\n",
              "      <td>-1.9940</td>\n",
              "      <td>-1.0733</td>\n",
              "      <td>8.1975</td>\n",
              "      <td>19.5114</td>\n",
              "      <td>4.8453</td>\n",
              "    </tr>\n",
              "    <tr>\n",
              "      <th>9</th>\n",
              "      <td>train_9</td>\n",
              "      <td>0</td>\n",
              "      <td>12.5088</td>\n",
              "      <td>1.9743</td>\n",
              "      <td>8.8960</td>\n",
              "      <td>5.4508</td>\n",
              "      <td>13.6043</td>\n",
              "      <td>-16.2859</td>\n",
              "      <td>6.0637</td>\n",
              "      <td>16.8410</td>\n",
              "      <td>...</td>\n",
              "      <td>0.5543</td>\n",
              "      <td>6.3160</td>\n",
              "      <td>1.0371</td>\n",
              "      <td>3.6885</td>\n",
              "      <td>14.8344</td>\n",
              "      <td>0.4467</td>\n",
              "      <td>14.1287</td>\n",
              "      <td>7.9133</td>\n",
              "      <td>16.2375</td>\n",
              "      <td>14.2514</td>\n",
              "    </tr>\n",
              "    <tr>\n",
              "      <th>10</th>\n",
              "      <td>train_10</td>\n",
              "      <td>0</td>\n",
              "      <td>5.0702</td>\n",
              "      <td>-0.5447</td>\n",
              "      <td>9.5900</td>\n",
              "      <td>4.2987</td>\n",
              "      <td>12.3910</td>\n",
              "      <td>-18.8687</td>\n",
              "      <td>6.0382</td>\n",
              "      <td>14.3797</td>\n",
              "      <td>...</td>\n",
              "      <td>7.2780</td>\n",
              "      <td>8.0819</td>\n",
              "      <td>0.2139</td>\n",
              "      <td>-0.0761</td>\n",
              "      <td>14.9585</td>\n",
              "      <td>-1.2160</td>\n",
              "      <td>6.6576</td>\n",
              "      <td>9.2553</td>\n",
              "      <td>14.2914</td>\n",
              "      <td>-7.6652</td>\n",
              "    </tr>\n",
              "    <tr>\n",
              "      <th>11</th>\n",
              "      <td>train_11</td>\n",
              "      <td>0</td>\n",
              "      <td>12.7188</td>\n",
              "      <td>-7.9750</td>\n",
              "      <td>10.3757</td>\n",
              "      <td>9.0101</td>\n",
              "      <td>12.8570</td>\n",
              "      <td>-12.0852</td>\n",
              "      <td>5.6464</td>\n",
              "      <td>11.8370</td>\n",
              "      <td>...</td>\n",
              "      <td>-0.8901</td>\n",
              "      <td>2.6559</td>\n",
              "      <td>-0.0503</td>\n",
              "      <td>5.5946</td>\n",
              "      <td>13.6152</td>\n",
              "      <td>2.4058</td>\n",
              "      <td>-1.7183</td>\n",
              "      <td>9.6745</td>\n",
              "      <td>16.7498</td>\n",
              "      <td>-3.9728</td>\n",
              "    </tr>\n",
              "    <tr>\n",
              "      <th>12</th>\n",
              "      <td>train_12</td>\n",
              "      <td>0</td>\n",
              "      <td>8.7671</td>\n",
              "      <td>-4.6154</td>\n",
              "      <td>9.7242</td>\n",
              "      <td>7.4242</td>\n",
              "      <td>9.0254</td>\n",
              "      <td>1.4247</td>\n",
              "      <td>6.2815</td>\n",
              "      <td>12.3143</td>\n",
              "      <td>...</td>\n",
              "      <td>0.3782</td>\n",
              "      <td>7.4382</td>\n",
              "      <td>0.0854</td>\n",
              "      <td>1.3444</td>\n",
              "      <td>17.2439</td>\n",
              "      <td>-0.0798</td>\n",
              "      <td>5.7389</td>\n",
              "      <td>8.4897</td>\n",
              "      <td>17.0938</td>\n",
              "      <td>4.6106</td>\n",
              "    </tr>\n",
              "    <tr>\n",
              "      <th>13</th>\n",
              "      <td>train_13</td>\n",
              "      <td>1</td>\n",
              "      <td>16.3699</td>\n",
              "      <td>1.5934</td>\n",
              "      <td>16.7395</td>\n",
              "      <td>7.3330</td>\n",
              "      <td>12.1450</td>\n",
              "      <td>5.9004</td>\n",
              "      <td>4.8222</td>\n",
              "      <td>20.9729</td>\n",
              "      <td>...</td>\n",
              "      <td>7.4002</td>\n",
              "      <td>7.4031</td>\n",
              "      <td>4.3989</td>\n",
              "      <td>4.0978</td>\n",
              "      <td>17.3638</td>\n",
              "      <td>-1.3022</td>\n",
              "      <td>9.6846</td>\n",
              "      <td>9.0419</td>\n",
              "      <td>15.6064</td>\n",
              "      <td>-10.8529</td>\n",
              "    </tr>\n",
              "    <tr>\n",
              "      <th>14</th>\n",
              "      <td>train_14</td>\n",
              "      <td>0</td>\n",
              "      <td>13.8080</td>\n",
              "      <td>5.0514</td>\n",
              "      <td>17.2611</td>\n",
              "      <td>8.5120</td>\n",
              "      <td>12.8517</td>\n",
              "      <td>-9.1622</td>\n",
              "      <td>5.7327</td>\n",
              "      <td>21.0517</td>\n",
              "      <td>...</td>\n",
              "      <td>1.0740</td>\n",
              "      <td>8.3220</td>\n",
              "      <td>3.2619</td>\n",
              "      <td>1.6738</td>\n",
              "      <td>17.4797</td>\n",
              "      <td>-0.0257</td>\n",
              "      <td>-3.5323</td>\n",
              "      <td>9.3439</td>\n",
              "      <td>24.4479</td>\n",
              "      <td>-5.1110</td>\n",
              "    </tr>\n",
              "    <tr>\n",
              "      <th>15</th>\n",
              "      <td>train_15</td>\n",
              "      <td>0</td>\n",
              "      <td>3.9416</td>\n",
              "      <td>2.6562</td>\n",
              "      <td>13.3633</td>\n",
              "      <td>6.8895</td>\n",
              "      <td>12.2806</td>\n",
              "      <td>-16.1620</td>\n",
              "      <td>5.6979</td>\n",
              "      <td>14.4573</td>\n",
              "      <td>...</td>\n",
              "      <td>-3.4195</td>\n",
              "      <td>0.8829</td>\n",
              "      <td>-1.9859</td>\n",
              "      <td>3.9905</td>\n",
              "      <td>22.4647</td>\n",
              "      <td>0.5129</td>\n",
              "      <td>6.5273</td>\n",
              "      <td>8.2899</td>\n",
              "      <td>12.9116</td>\n",
              "      <td>-4.9182</td>\n",
              "    </tr>\n",
              "    <tr>\n",
              "      <th>16</th>\n",
              "      <td>train_16</td>\n",
              "      <td>0</td>\n",
              "      <td>5.0615</td>\n",
              "      <td>0.2689</td>\n",
              "      <td>15.1325</td>\n",
              "      <td>3.6587</td>\n",
              "      <td>13.5276</td>\n",
              "      <td>-6.5477</td>\n",
              "      <td>5.2757</td>\n",
              "      <td>9.8710</td>\n",
              "      <td>...</td>\n",
              "      <td>0.2717</td>\n",
              "      <td>7.2854</td>\n",
              "      <td>0.5670</td>\n",
              "      <td>8.1822</td>\n",
              "      <td>19.5616</td>\n",
              "      <td>0.4365</td>\n",
              "      <td>-3.4975</td>\n",
              "      <td>8.6367</td>\n",
              "      <td>20.2548</td>\n",
              "      <td>11.1524</td>\n",
              "    </tr>\n",
              "    <tr>\n",
              "      <th>17</th>\n",
              "      <td>train_17</td>\n",
              "      <td>0</td>\n",
              "      <td>8.4199</td>\n",
              "      <td>-1.8128</td>\n",
              "      <td>8.1202</td>\n",
              "      <td>5.3955</td>\n",
              "      <td>9.7184</td>\n",
              "      <td>-17.8390</td>\n",
              "      <td>4.0959</td>\n",
              "      <td>15.2860</td>\n",
              "      <td>...</td>\n",
              "      <td>7.4363</td>\n",
              "      <td>11.3072</td>\n",
              "      <td>3.7903</td>\n",
              "      <td>0.0290</td>\n",
              "      <td>16.2954</td>\n",
              "      <td>0.1470</td>\n",
              "      <td>8.9603</td>\n",
              "      <td>9.4560</td>\n",
              "      <td>19.4505</td>\n",
              "      <td>-5.2407</td>\n",
              "    </tr>\n",
              "    <tr>\n",
              "      <th>18</th>\n",
              "      <td>train_18</td>\n",
              "      <td>0</td>\n",
              "      <td>4.8750</td>\n",
              "      <td>1.2646</td>\n",
              "      <td>11.9190</td>\n",
              "      <td>8.4650</td>\n",
              "      <td>10.7203</td>\n",
              "      <td>-0.6707</td>\n",
              "      <td>5.6103</td>\n",
              "      <td>16.4661</td>\n",
              "      <td>...</td>\n",
              "      <td>9.1843</td>\n",
              "      <td>2.6812</td>\n",
              "      <td>1.8587</td>\n",
              "      <td>4.6929</td>\n",
              "      <td>16.0916</td>\n",
              "      <td>-1.5336</td>\n",
              "      <td>-4.0958</td>\n",
              "      <td>8.5873</td>\n",
              "      <td>17.1516</td>\n",
              "      <td>-22.1940</td>\n",
              "    </tr>\n",
              "    <tr>\n",
              "      <th>19</th>\n",
              "      <td>train_19</td>\n",
              "      <td>0</td>\n",
              "      <td>4.4090</td>\n",
              "      <td>-0.7863</td>\n",
              "      <td>15.1828</td>\n",
              "      <td>8.0631</td>\n",
              "      <td>11.2831</td>\n",
              "      <td>-0.7356</td>\n",
              "      <td>6.3801</td>\n",
              "      <td>16.0218</td>\n",
              "      <td>...</td>\n",
              "      <td>5.9745</td>\n",
              "      <td>6.3267</td>\n",
              "      <td>2.5156</td>\n",
              "      <td>8.9878</td>\n",
              "      <td>16.0550</td>\n",
              "      <td>-2.1962</td>\n",
              "      <td>8.3985</td>\n",
              "      <td>9.1711</td>\n",
              "      <td>14.7352</td>\n",
              "      <td>3.9133</td>\n",
              "    </tr>\n",
              "  </tbody>\n",
              "</table>\n",
              "<p>20 rows × 202 columns</p>\n",
              "</div>"
            ],
            "text/plain": [
              "     ID_code  target    var_0   var_1    var_2   var_3    var_4    var_5  \\\n",
              "0    train_0       0   8.9255 -6.7863  11.9081  5.0930  11.4607  -9.2834   \n",
              "1    train_1       0  11.5006 -4.1473  13.8588  5.3890  12.3622   7.0433   \n",
              "2    train_2       0   8.6093 -2.7457  12.0805  7.8928  10.5825  -9.0837   \n",
              "3    train_3       0  11.0604 -2.1518   8.9522  7.1957  12.5846  -1.8361   \n",
              "4    train_4       0   9.8369 -1.4834  12.8746  6.6375  12.2772   2.4486   \n",
              "5    train_5       0  11.4763 -2.3182  12.6080  8.6264  10.9621   3.5609   \n",
              "6    train_6       0  11.8091 -0.0832   9.3494  4.2916  11.1355  -8.0198   \n",
              "7    train_7       0  13.5580 -7.9881  13.8776  7.5985   8.6543   0.8310   \n",
              "8    train_8       0  16.1071  2.4426  13.9307  5.6327   8.8014   6.1630   \n",
              "9    train_9       0  12.5088  1.9743   8.8960  5.4508  13.6043 -16.2859   \n",
              "10  train_10       0   5.0702 -0.5447   9.5900  4.2987  12.3910 -18.8687   \n",
              "11  train_11       0  12.7188 -7.9750  10.3757  9.0101  12.8570 -12.0852   \n",
              "12  train_12       0   8.7671 -4.6154   9.7242  7.4242   9.0254   1.4247   \n",
              "13  train_13       1  16.3699  1.5934  16.7395  7.3330  12.1450   5.9004   \n",
              "14  train_14       0  13.8080  5.0514  17.2611  8.5120  12.8517  -9.1622   \n",
              "15  train_15       0   3.9416  2.6562  13.3633  6.8895  12.2806 -16.1620   \n",
              "16  train_16       0   5.0615  0.2689  15.1325  3.6587  13.5276  -6.5477   \n",
              "17  train_17       0   8.4199 -1.8128   8.1202  5.3955   9.7184 -17.8390   \n",
              "18  train_18       0   4.8750  1.2646  11.9190  8.4650  10.7203  -0.6707   \n",
              "19  train_19       0   4.4090 -0.7863  15.1828  8.0631  11.2831  -0.7356   \n",
              "\n",
              "     var_6    var_7   ...     var_190  var_191  var_192  var_193  var_194  \\\n",
              "0   5.1187  18.6266   ...      4.4354   3.9642   3.1364   1.6910  18.5227   \n",
              "1   5.6208  16.5338   ...      7.6421   7.7214   2.5837  10.9516  15.4305   \n",
              "2   6.9427  14.6155   ...      2.9057   9.7905   1.6704   1.6858  21.6042   \n",
              "3   5.8428  14.9250   ...      4.4666   4.7433   0.7178   1.4214  23.0347   \n",
              "4   5.9405  19.2514   ...     -1.4905   9.5214  -0.1508   9.1942  13.2876   \n",
              "5   4.5322  15.2255   ...     -6.3068   6.6025   5.2912   0.4403  14.9452   \n",
              "6   6.1961  12.0771   ...      8.7830   6.4521   3.5325   0.1777  18.3314   \n",
              "7   5.6890  22.3262   ...     13.1700   6.5491   3.9906   5.8061  23.1407   \n",
              "8   4.4514  10.1854   ...      1.4298  14.7510   1.6395   1.4181  14.8370   \n",
              "9   6.0637  16.8410   ...      0.5543   6.3160   1.0371   3.6885  14.8344   \n",
              "10  6.0382  14.3797   ...      7.2780   8.0819   0.2139  -0.0761  14.9585   \n",
              "11  5.6464  11.8370   ...     -0.8901   2.6559  -0.0503   5.5946  13.6152   \n",
              "12  6.2815  12.3143   ...      0.3782   7.4382   0.0854   1.3444  17.2439   \n",
              "13  4.8222  20.9729   ...      7.4002   7.4031   4.3989   4.0978  17.3638   \n",
              "14  5.7327  21.0517   ...      1.0740   8.3220   3.2619   1.6738  17.4797   \n",
              "15  5.6979  14.4573   ...     -3.4195   0.8829  -1.9859   3.9905  22.4647   \n",
              "16  5.2757   9.8710   ...      0.2717   7.2854   0.5670   8.1822  19.5616   \n",
              "17  4.0959  15.2860   ...      7.4363  11.3072   3.7903   0.0290  16.2954   \n",
              "18  5.6103  16.4661   ...      9.1843   2.6812   1.8587   4.6929  16.0916   \n",
              "19  6.3801  16.0218   ...      5.9745   6.3267   2.5156   8.9878  16.0550   \n",
              "\n",
              "    var_195  var_196  var_197  var_198  var_199  \n",
              "0   -2.3978   7.8784   8.5635  12.7803  -1.0914  \n",
              "1    2.0339   8.1267   8.7889  18.3560   1.9518  \n",
              "2    3.1417  -6.5213   8.2675  14.7222   0.3965  \n",
              "3   -1.2706  -2.9275  10.2922  17.9697  -8.9996  \n",
              "4   -1.5121   3.9267   9.5031  17.9974  -8.8104  \n",
              "5    1.0314  -3.6241   9.7670  12.5809  -4.7602  \n",
              "6    0.5845   9.1104   9.1143  10.8869  -3.2097  \n",
              "7   -0.3776   4.2178   9.4237   8.6624   3.4806  \n",
              "8   -1.9940  -1.0733   8.1975  19.5114   4.8453  \n",
              "9    0.4467  14.1287   7.9133  16.2375  14.2514  \n",
              "10  -1.2160   6.6576   9.2553  14.2914  -7.6652  \n",
              "11   2.4058  -1.7183   9.6745  16.7498  -3.9728  \n",
              "12  -0.0798   5.7389   8.4897  17.0938   4.6106  \n",
              "13  -1.3022   9.6846   9.0419  15.6064 -10.8529  \n",
              "14  -0.0257  -3.5323   9.3439  24.4479  -5.1110  \n",
              "15   0.5129   6.5273   8.2899  12.9116  -4.9182  \n",
              "16   0.4365  -3.4975   8.6367  20.2548  11.1524  \n",
              "17   0.1470   8.9603   9.4560  19.4505  -5.2407  \n",
              "18  -1.5336  -4.0958   8.5873  17.1516 -22.1940  \n",
              "19  -2.1962   8.3985   9.1711  14.7352   3.9133  \n",
              "\n",
              "[20 rows x 202 columns]"
            ]
          },
          "metadata": {
            "tags": []
          },
          "execution_count": 61
        }
      ]
    },
    {
      "metadata": {
        "id": "mMddCEe1sf3M",
        "colab_type": "text"
      },
      "cell_type": "markdown",
      "source": [
        ""
      ]
    },
    {
      "metadata": {
        "id": "zv-Dhj88sf3M",
        "colab_type": "code",
        "colab": {}
      },
      "cell_type": "code",
      "source": [
        "def check(df,target):\n",
        "    check=[]\n",
        "    print('size of the data',df.shape[0])\n",
        "    for i in [0,1]:\n",
        "        print('for target',format(i))\n",
        "        print(df[target].value_counts()[i]/df.shape[0]*100,'%')\n",
        "\n",
        "\n"
      ],
      "execution_count": 0,
      "outputs": []
    },
    {
      "metadata": {
        "id": "_XOWHsU8sf3N",
        "colab_type": "text"
      },
      "cell_type": "markdown",
      "source": [
        ""
      ]
    },
    {
      "metadata": {
        "id": "rVXBmBDAsf3O",
        "colab_type": "code",
        "colab": {},
        "outputId": "890d8dce-43c2-41f2-95b1-777850cfb3bd"
      },
      "cell_type": "code",
      "source": [
        "check(train,'target')\n"
      ],
      "execution_count": 0,
      "outputs": [
        {
          "output_type": "stream",
          "text": [
            "size of the data 200000\n",
            "for target 0\n",
            "89.95100000000001 %\n",
            "for target 1\n",
            "10.049 %\n"
          ],
          "name": "stdout"
        }
      ]
    },
    {
      "metadata": {
        "id": "iay1jEGZsf3R",
        "colab_type": "text"
      },
      "cell_type": "markdown",
      "source": [
        " # RandomForestClassifier"
      ]
    },
    {
      "metadata": {
        "id": "FoEI4KFDsf3S",
        "colab_type": "code",
        "colab": {}
      },
      "cell_type": "code",
      "source": [
        "random=RandomForestClassifier(train)\n"
      ],
      "execution_count": 0,
      "outputs": []
    },
    {
      "metadata": {
        "id": "kBwoIfZgsf3X",
        "colab_type": "text"
      },
      "cell_type": "markdown",
      "source": [
        " # Decision Tree Classifier"
      ]
    },
    {
      "metadata": {
        "id": "wc3cXHLvsf3Y",
        "colab_type": "code",
        "colab": {}
      },
      "cell_type": "code",
      "source": [
        "decision=DecisionTreeClassifier(train)\n"
      ],
      "execution_count": 0,
      "outputs": []
    },
    {
      "metadata": {
        "id": "bmbWqIMQsf3a",
        "colab_type": "code",
        "colab": {}
      },
      "cell_type": "code",
      "source": [
        ""
      ],
      "execution_count": 0,
      "outputs": []
    }
  ]
}